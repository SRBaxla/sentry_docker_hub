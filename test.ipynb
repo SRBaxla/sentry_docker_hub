{
 "cells": [
  {
   "cell_type": "code",
   "execution_count": 1,
   "id": "696c0b64",
   "metadata": {},
   "outputs": [
    {
     "name": "stderr",
     "output_type": "stream",
     "text": [
      "c:\\Users\\srb73\\AppData\\Local\\Programs\\Python\\Python310\\lib\\site-packages\\influxdb_client\\client\\warnings.py:31: MissingPivotFunction: The query doesn't contains the pivot() function.\n",
      "\n",
      "The result will not be shaped to optimal processing by pandas.DataFrame. Use the pivot() function by:\n",
      "\n",
      "    \n",
      "import \"influxdata/influxdb/schema\"\n",
      "\n",
      "schema.tagValues(\n",
      "  bucket: \"Sentry\",\n",
      "  tag: \"symbol\"\n",
      ")\n",
      " |> pivot(rowKey:[\"_time\"], columnKey: [\"_field\"], valueColumn: \"_value\")\n",
      "\n",
      "You can disable this warning by:\n",
      "    import warnings\n",
      "    from influxdb_client.client.warnings import MissingPivotFunction\n",
      "\n",
      "    warnings.simplefilter(\"ignore\", MissingPivotFunction)\n",
      "\n",
      "For more info see:\n",
      "    - https://docs.influxdata.com/resources/videos/pivots-in-flux/\n",
      "    - https://docs.influxdata.com/flux/latest/stdlib/universe/pivot/\n",
      "    - https://docs.influxdata.com/flux/latest/stdlib/influxdata/influxdb/schema/fieldsascols/\n",
      "\n",
      "  warnings.warn(message, MissingPivotFunction)\n"
     ]
    },
    {
     "name": "stdout",
     "output_type": "stream",
     "text": [
      "Symbols: ['1INCHBTC', '1INCHUSDT', 'AAVEBTC', 'AAVEETH', 'AAVEUSDT', 'ACABTC', 'ACATRY', 'ACAUSDT', 'ACHBTC', 'ACHTRY', 'ACHUSDT', 'ACMUSDT', 'ADABNB', 'ADABRL', 'ADABTC', 'ADAETH', 'ADAEUR', 'ADAFDUSD', 'ADATRY', 'ADAUSDC', 'ADAUSDT', 'ADXBTC', 'ADXETH', 'ADXUSDT', 'AGLDBTC', 'AGLDUSDT', 'ALCXUSDT', 'ALGOBTC', 'ALGOTRY', 'ALGOUSDC', 'ALGOUSDT', 'ALICETRY', 'ALICEUSDT', 'ALPACAUSDT', 'ALPHAUSDT', 'ALPINETRY', 'ALPINEUSDT', 'AMPTRY', 'AMPUSDT', 'ANKRBTC', 'ANKRTRY', 'ANKRUSDT', 'APEBTC', 'APETRY', 'APEUSDT', 'API3BTC', 'API3TRY', 'API3USDT', 'APTBTC', 'APTETH', 'APTEUR', 'APTTRY', 'APTUSDT', 'ARBBTC', 'ARBETH', 'ARBEUR', 'ARBFDUSD', 'ARBTC', 'ARBTRY', 'ARBTUSD', 'ARBUSDT', 'ARDRBTC', 'ARDRUSDT', 'ARKMBNB', 'ARKMBTC', 'ARKMTRY', 'ARKMUSDT', 'ARKTRY', 'ARKUSDT', 'ARPABTC', 'ARPATRY', 'ARPAUSDT', 'ARUSDT', 'ASRTRY', 'ASRUSDT', 'ASTRBTC', 'ASTRUSDT', 'ATABTC', 'ATAUSDT', 'ATMTRY', 'ATMUSDT', 'ATOMBTC', 'ATOMETH', 'ATOMEUR', 'ATOMFDUSD', 'ATOMTRY', 'ATOMUSDC', 'ATOMUSDT', 'AUCTIONBTC', 'AUCTIONUSDT', 'AUDIOBTC', 'AUDIOTRY', 'AUDIOUSDT', 'AVABTC', 'AVAUSDT', 'AVAXBNB', 'AVAXBRL', 'AVAXBTC', 'AVAXETH', 'AVAXEUR', 'AVAXFDUSD', 'AVAXTRY', 'AVAXUSDT', 'AXSBNB', 'AXSBTC', 'AXSETH', 'AXSTRY', 'AXSUSDT', 'BAKEBTC', 'BAKEUSDT', 'BANDBTC', 'BANDUSDT', 'BARTRY', 'BARUSDT', 'BATBTC', 'BATUSDT', 'BCHBNB', 'BCHBTC', 'BCHEUR', 'BCHFDUSD', 'BCHTRY', 'BCHUSDC', 'BCHUSDT', 'BEAMXTRY', 'BEAMXUSDT', 'BELBTC', 'BELTRY', 'BELUSDT', 'BICOBTC', 'BICOUSDT', 'BIFIUSDT', 'BNBBRL', 'BNBBTC', 'BNBETH', 'BNBEUR', 'BNBFDUSD', 'BNBTRY', 'BNBTUSD', 'BNBUSDC', 'BNBUSDT', 'BNTUSDT', 'BSWTRY', 'BSWUSDT', 'BTCARS', 'BTCBRL', 'BTCDAI', 'BTCEUR', 'BTCFDUSD', 'BTCPLN', 'BTCRON', 'BTCTRY', 'BTCTUSD', 'BTCUAH', 'BTCUSDC', 'BTCUSDT', 'BTCZAR', 'BTTCTRY', 'BTTCUSDT', 'C98USDT', 'CAKEBNB', 'CAKEBTC', 'CAKETRY', 'CAKEUSDT', 'CELOBTC', 'CELOUSDT', 'CELRUSDT', 'CFXBTC', 'CFXTRY', 'CFXUSDT', 'CHESSUSDT', 'CHRBTC', 'CHRUSDT', 'CHZBNB', 'CHZBTC', 'CHZTRY', 'CHZUSDT', 'CITYTRY', 'CITYUSDT', 'CKBUSDT', 'COMPBTC', 'COMPTRY', 'COMPUSDT', 'COSTRY', 'COSUSDT', 'COTIBTC', 'COTIUSDT', 'CRVBTC', 'CRVUSDT', 'CTKBNB', 'CTKBTC', 'CTKUSDT', 'CTSIBTC', 'CTSIUSDT', 'CVCUSDT', 'CVXUSDT', 'CYBERBNB', 'CYBERBTC', 'CYBERETH', 'CYBERFDUSD', 'CYBERTRY', 'CYBERUSDT', 'DASHBTC', 'DASHETH', 'DASHUSDT', 'DATABTC', 'DATAUSDT', 'DCRUSDT', 'DEGOUSDT', 'DENTETH', 'DENTTRY', 'DENTUSDT', 'DEXEUSDT', 'DFUSDT', 'DGBUSDT', 'DIABTC', 'DIAUSDT', 'DODOBTC', 'DODOUSDT', 'DOGEBRL', 'DOGEBTC', 'DOGEEUR', 'DOGEFDUSD', 'DOGETRY', 'DOGETUSD', 'DOGEUSDC', 'DOGEUSDT', 'DOTBNB', 'DOTBRL', 'DOTBTC', 'DOTETH', 'DOTEUR', 'DOTFDUSD', 'DOTTRY', 'DOTUSDT', 'DUSKBTC', 'DUSKUSDT', 'DYDXBTC', 'DYDXFDUSD', 'DYDXUSDT', 'EDUTRY', 'EDUUSDT', 'EGLDBNB', 'EGLDBTC', 'EGLDETH', 'EGLDEUR', 'EGLDFDUSD', 'EGLDRON', 'EGLDUSDT', 'ENJBTC', 'ENJTRY', 'ENJUSDT', 'ENSBTC', 'ENSTRY', 'ENSUSDT', 'EOSBTC', 'EOSETH', 'EOSTRY', 'EOSUSDC', 'EOSUSDT', 'ETCBNB', 'ETCBTC', 'ETCETH', 'ETCTRY', 'ETCUSDT', 'ETHBRL', 'ETHBTC', 'ETHDAI', 'ETHEUR', 'ETHFDUSD', 'ETHPLN', 'ETHTRY', 'ETHTUSD', 'ETHUSDC', 'ETHUSDT', 'ETHZAR', 'EURUSDT', 'FARMUSDT', 'FDUSDTRY', 'FDUSDUSDT', 'FETBNB', 'FETBTC', 'FETFDUSD', 'FETTRY', 'FETUSDT', 'FIDABTC', 'FIDAUSDT', 'FILBTC', 'FILETH', 'FILFDUSD', 'FILTRY', 'FILUSDT', 'FIOBTC', 'FIOUSDT', 'FISBTC', 'FISUSDT', 'FLMBTC', 'FLMUSDT', 'FLOKITRY', 'FLOKIUSDT', 'FLOWBTC', 'FLOWUSDT', 'FLUXBTC', 'FLUXUSDT', 'FORTHBTC', 'FORTHUSDT', 'FTTUSDT', 'FUNUSDT', 'FXSUSDT', 'GALABRL', 'GALABTC', 'GALAETH', 'GALAEUR', 'GALATRY', 'GALAUSDT', 'GASBTC', 'GASUSDT', 'GHSTUSDT', 'GLMBTC', 'GLMRBTC', 'GLMRUSDT', 'GLMUSDT', 'GMTBTC', 'GMTEUR', 'GMTTRY', 'GMTUSDT', 'GMXUSDT', 'GNOUSDT', 'GNSUSDT', 'GRTBTC', 'GRTETH', 'GRTEUR', 'GRTTRY', 'GRTUSDT', 'GTCUSDT', 'HBARBNB', 'HBARBTC', 'HBARUSDT', 'HFTBTC', 'HFTUSDT', 'HIFIUSDT', 'HIGHUSDT', 'HIVEBTC', 'HIVEUSDT', 'HOOKUSDT', 'HOTETH', 'HOTTRY', 'HOTUSDT', 'ICPBTC', 'ICPETH', 'ICPEUR', 'ICPTRY', 'ICPUSDT', 'ICXBTC', 'ICXUSDT', 'IDBTC', 'IDEXUSDT', 'IDTRY', 'IDUSDT', 'ILVBTC', 'ILVUSDT', 'IMXBTC', 'IMXUSDT', 'INJBNB', 'INJBTC', 'INJETH', 'INJTRY', 'INJUSDT', 'IOSTUSDT', 'IOTABTC', 'IOTAETH', 'IOTAUSDT', 'IOTXBTC', 'IOTXETH', 'IOTXUSDT', 'IQUSDT', 'JASMYTRY', 'JASMYUSDT', 'JOEBTC', 'JOEUSDT', 'JSTBTC', 'JSTUSDT', 'JUVTRY', 'JUVUSDT', 'KAVABTC', 'KAVAUSDT', 'KDABTC', 'KDAUSDT', 'KMDBTC', 'KMDUSDT', 'KNCBTC', 'KNCUSDT', 'KSMBTC', 'KSMUSDT', 'LAZIOTRY', 'LAZIOUSDT', 'LDOBTC', 'LDOUSDT', 'LEVERTRY', 'LEVERUSDT', 'LINKBNB', 'LINKBRL', 'LINKBTC', 'LINKETH', 'LINKEUR', 'LINKFDUSD', 'LINKTRY', 'LINKUSDC', 'LINKUSDT', 'LOKABTC', 'LOKAUSDT', 'LPTBNB', 'LPTBTC', 'LPTTRY', 'LPTUSDT', 'LQTYUSDT', 'LRCBTC', 'LRCETH', 'LRCTRY', 'LRCUSDT', 'LSKBTC', 'LSKUSDT', 'LTCBNB', 'LTCBRL', 'LTCBTC', 'LTCETH', 'LTCEUR', 'LTCFDUSD', 'LTCTRY', 'LTCUSDC', 'LTCUSDT', 'LTOBTC', 'LTOUSDT', 'LUNATRY', 'LUNAUSDT', 'LUNCUSDT', 'MAGICBTC', 'MAGICTRY', 'MAGICUSDT', 'MANABTC', 'MANAETH', 'MANATRY', 'MANAUSDT', 'MASKBNB', 'MASKUSDT', 'MAVBTC', 'MAVTRY', 'MAVUSDT', 'MBLUSDT', 'MBOXTRY', 'MBOXUSDT', 'MDTUSDT', 'MEMEFDUSD', 'MEMETRY', 'MEMEUSDT', 'MINABTC', 'MINATRY', 'MINAUSDT', 'MKRBTC', 'MKRUSDT', 'MLNUSDT', 'MOVRBTC', 'MOVRUSDT', 'MTLBTC', 'MTLUSDT', 'NEARBNB', 'NEARBTC', 'NEARETH', 'NEAREUR', 'NEARFDUSD', 'NEARTRY', 'NEARUSDT', 'NEOBTC', 'NEOTRY', 'NEOUSDC', 'NEOUSDT', 'NEXOBTC', 'NEXOUSDT', 'NKNBTC', 'NKNUSDT', 'NMRBTC', 'NMRUSDT', 'NTRNBNB', 'NTRNUSDT', 'OGBTC', 'OGNBTC', 'OGNTRY', 'OGNUSDT', 'OGTRY', 'OGUSDT', 'OMBTC', 'OMUSDT', 'ONEBTC', 'ONETRY', 'ONEUSDT', 'ONGBTC', 'ONGUSDT', 'ONTBTC', 'ONTTRY', 'ONTUSDC', 'ONTUSDT', 'OPBTC', 'OPETH', 'OPEUR', 'OPFDUSD', 'OPTRY', 'OPUSDT', 'ORDIBTC', 'ORDIFDUSD', 'ORDITRY', 'ORDIUSDT', 'OSMOUSDT', 'OXTBTC', 'OXTUSDT', 'PAXGBTC', 'PAXGTRY', 'PAXGUSDT', 'PENDLEBTC', 'PENDLEUSDT', 'PEOPLEBTC', 'PEOPLEUSDT', 'PEPETRY', 'PEPEUSDT', 'PERPUSDT', 'PHABTC', 'PHAUSDT', 'PHBBTC', 'PHBUSDT', 'PIVXBTC', 'PIVXUSDT', 'POLYXBTC', 'POLYXUSDT', 'PONDUSDT', 'PORTOTRY', 'PORTOUSDT', 'POWRBTC', 'POWRETH', 'POWRUSDT', 'PROMUSDT', 'PSGTRY', 'PSGUSDT', 'PUNDIXUSDT', 'PYRBTC', 'PYRUSDT', 'QIUSDT', 'QKCUSDT', 'QNTBTC', 'QNTUSDT', 'QTUMBTC', 'QTUMETH', 'QTUMUSDT', 'QUICKUSDT', 'RADTRY', 'RADUSDT', 'RAREBTC', 'RAREUSDT', 'RAYUSDT', 'RDNTUSDT', 'REIUSDT', 'REQBTC', 'REQUSDT', 'RIFBTC', 'RIFUSDT', 'RLCBTC', 'RLCETH', 'RLCUSDT', 'ROSEBTC', 'ROSETRY', 'ROSEUSDT', 'RPLUSDT', 'RSRUSDT', 'RUNEBTC', 'RUNEETH', 'RUNEFDUSD', 'RUNEUSDT', 'RVNBTC', 'RVNTRY', 'RVNUSDT', 'SANDBTC', 'SANDTRY', 'SANDUSDT', 'SANTOSBTC', 'SANTOSTRY', 'SANTOSUSDT', 'SCETH', 'SCRTBTC', 'SCRTUSDT', 'SCUSDT', 'SEIBNB', 'SEIBTC', 'SEIFDUSD', 'SEITRY', 'SEIUSDT', 'SFPBTC', 'SFPUSDT', 'SHIBBRL', 'SHIBDOGE', 'SHIBEUR', 'SHIBTRY', 'SHIBUSDT', 'SKLBTC', 'SKLUSDT', 'SLPETH', 'SLPTRY', 'SLPUSDT', 'SNXBTC', 'SNXUSDT', 'SOLBNB', 'SOLBRL', 'SOLBTC', 'SOLETH', 'SOLEUR', 'SOLFDUSD', 'SOLTRY', 'SOLTUSD', 'SOLUSDC', 'SOLUSDT', 'SPELLTRY', 'SPELLUSDT', 'SSVBTC', 'SSVETH', 'SSVUSDT', 'STEEMBTC', 'STEEMETH', 'STEEMUSDT', 'STGBTC', 'STGUSDT', 'STORJBTC', 'STORJTRY', 'STORJUSDT', 'STPTBTC', 'STPTUSDT', 'STRAXBTC', 'STRAXTRY', 'STRAXUSDT', 'STXBNB', 'STXBTC', 'STXTRY', 'STXUSDT', 'SUIBNB', 'SUIBTC', 'SUIEUR', 'SUIFDUSD', 'SUITRY', 'SUIUSDT', 'SUNUSDT', 'SUPERBTC', 'SUPERUSDT', 'SUSHIBTC', 'SUSHIUSDT', 'SXPBTC', 'SXPTRY', 'SXPUSDT', 'SYNUSDT', 'SYSBTC', 'SYSUSDT', 'TFUELBTC', 'TFUELUSDT', 'THETABTC', 'THETAUSDT', 'TIABTC', 'TIATRY', 'TIAUSDT', 'TKOUSDT', 'TLMTRY', 'TLMUSDT', 'TRBBTC', 'TRBTRY', 'TRBUSDT', 'TRUBTC', 'TRUUSDT', 'TRXBNB', 'TRXBTC', 'TRXETH', 'TRXEUR', 'TRXTRY', 'TRXUSDC', 'TRXUSDT', 'TRXXRP', 'TUSDT', 'TUSDUSDT', 'TWTTRY', 'TWTUSDT', 'UMABTC', 'UMATRY', 'UMAUSDT', 'UNIBTC', 'UNIETH', 'UNITRY', 'UNIUSDT', 'USDCUSDT', 'USDPUSDT', 'USDTARS', 'USDTBRL', 'USDTDAI', 'USDTPLN', 'USDTTRY', 'USDTUAH', 'USDTZAR', 'USTCUSDT', 'UTKUSDT', 'VETBNB', 'VETBTC', 'VETETH', 'VETEUR', 'VETTRY', 'VETUSDT', 'VIBUSDT', 'VOXELUSDT', 'VTHOUSDT', 'WANBTC', 'WANUSDT', 'WAXPBTC', 'WAXPUSDT', 'WBETHETH', 'WBETHUSDT', 'WBTCBTC', 'WBTCETH', 'WBTCUSDT', 'WINEUR', 'WINGUSDT', 'WINTRX', 'WINUSDT', 'WLDBTC', 'WLDTRY', 'WLDUSDT', 'WOOUSDT', 'XECTRY', 'XECUSDT', 'XLMBTC', 'XLMETH', 'XLMEUR', 'XLMTRY', 'XLMUSDC', 'XLMUSDT', 'XNOBTC', 'XNOUSDT', 'XRPBNB', 'XRPBRL', 'XRPBTC', 'XRPETH', 'XRPEUR', 'XRPFDUSD', 'XRPTRY', 'XRPTUSD', 'XRPUSDC', 'XRPUSDT', 'XTZBTC', 'XTZUSDT', 'XVGETH', 'XVGTRY', 'XVGUSDT', 'XVSBNB', 'XVSBTC', 'XVSTRY', 'XVSUSDT', 'YFIBTC', 'YFIUSDT', 'YGGBTC', 'YGGUSDT', 'ZECBTC', 'ZECETH', 'ZECUSDT', 'ZENBTC', 'ZENUSDT', 'ZILBTC', 'ZILETH', 'ZILTRY', 'ZILUSDT', 'ZRXBTC', 'ZRXUSDT']\n"
     ]
    }
   ],
   "source": [
    "from influxdb_client import InfluxDBClient\n",
    "import os\n",
    "\n",
    "# 🔐 Replace with your actual credentials or load from environment\n",
    "INFLUX_URL = os.getenv(\"INFLUX_URL\", \"http://localhost:8086\")\n",
    "INFLUX_TOKEN = os.getenv(\"INFLUX_TOKEN\", \"sentry123\")\n",
    "INFLUX_ORG = os.getenv(\"INFLUX_ORG\", \"Sentry\")\n",
    "INFLUX_BUCKET = os.getenv(\"INFLUX_BUCKET\", \"Sentry\")\n",
    "\n",
    "client = InfluxDBClient(url=INFLUX_URL, token=INFLUX_TOKEN, org=INFLUX_ORG)\n",
    "query_api = client.query_api()\n",
    "\n",
    "# 📦 Query to list all unique symbols from any measurement\n",
    "flux_query = f'''\n",
    "import \"influxdata/influxdb/schema\"\n",
    "\n",
    "schema.tagValues(\n",
    "  bucket: \"{INFLUX_BUCKET}\",\n",
    "  tag: \"symbol\"\n",
    ")\n",
    "'''\n",
    "\n",
    "result = query_api.query_data_frame(flux_query)\n",
    "\n",
    "# ✅ Display symbols\n",
    "symbols = result[\"_value\"].dropna().unique().tolist()\n",
    "print(\"Symbols:\", symbols)\n"
   ]
  },
  {
   "cell_type": "code",
   "execution_count": 2,
   "id": "0b83d251",
   "metadata": {},
   "outputs": [
    {
     "name": "stdout",
     "output_type": "stream",
     "text": [
      "✅ Symbols saved to symbols.csv\n"
     ]
    }
   ],
   "source": [
    "import pandas as pd\n",
    "\n",
    "pd.DataFrame(symbols, columns=[\"symbol\"]).to_csv(\"symbols.csv\", index=False)\n",
    "print(\"✅ Symbols saved to symbols.csv\")\n"
   ]
  },
  {
   "cell_type": "code",
   "execution_count": 17,
   "id": "6ef5bf26",
   "metadata": {},
   "outputs": [],
   "source": [
    "import requests\n",
    "\n",
    "COMMON_BUZZWORDS = [\"ETF\", \"SEC\", \"DeFi\", \"halving\", \"bullish\", \"bearish\"]\n",
    "\n",
    "def generate_keywords_for_symbol(symbol):\n",
    "    # Remove quote currencies\n",
    "    base_symbol = symbol.replace(\"USDT\", \"\").replace(\"BUSD\", \"\").replace(\"USD\", \"\")\n",
    "\n",
    "    try:\n",
    "        url = \"https://api.coingecko.com/api/v3/coins/list\"\n",
    "        response = requests.get(url, timeout=10)\n",
    "        coins = response.json()\n",
    "\n",
    "        for coin in coins:\n",
    "            if coin[\"symbol\"].lower() == base_symbol.lower():\n",
    "                name = coin[\"name\"]\n",
    "                return [\n",
    "                    name,\n",
    "                    base_symbol.upper(),\n",
    "                    f\"{base_symbol.upper()}/USD\",\n",
    "                    f\"{name} price\",\n",
    "                    f\"{name} news\"\n",
    "                ]\n",
    "    except Exception as e:\n",
    "        print(f\"⚠️ API Error for {symbol}: {e}\")\n",
    "\n",
    "    # If no match found\n",
    "    return [\n",
    "        base_symbol.upper(),\n",
    "        f\"{base_symbol.upper()}/USD\",\n",
    "        \"cryptocurrency\"\n",
    "    ]\n",
    "\n",
    "def enrich_keywords(keywords):\n",
    "    return keywords + COMMON_BUZZWORDS\n"
   ]
  },
  {
   "cell_type": "code",
   "execution_count": 18,
   "id": "29e23f42",
   "metadata": {},
   "outputs": [
    {
     "name": "stdout",
     "output_type": "stream",
     "text": [
      "['Bifrost Bridged ETH (Bifrost)', 'ETH', 'ETH/USD', 'Bifrost Bridged ETH (Bifrost) price', 'Bifrost Bridged ETH (Bifrost) news']\n"
     ]
    }
   ],
   "source": [
    "keywords_btc = generate_keywords_for_symbol(\"ETH\")\n",
    "print(keywords_btc)\n",
    "\n",
    "# Output:\n",
    "# ['Bitcoin', 'BTC', 'BTC/USD', 'Bitcoin price', 'Bitcoin news']\n"
   ]
  },
  {
   "cell_type": "code",
   "execution_count": 1,
   "id": "4607a603",
   "metadata": {},
   "outputs": [],
   "source": [
    "from influxdb_client import InfluxDBClient\n",
    "\n",
    "# Replace with your actual credentials\n",
    "INFLUX_URL = \"http://localhost:8086\"\n",
    "INFLUX_TOKEN = \"ulx8xRTPRxKpGKTf0Vl_nfioXzS7vunTOxms74HY4tXXHrfPvrgrVrmj48VCOAStqoXNVV3V2b-Bar7SR0ihUw==\"\n",
    "INFLUX_ORG = \"Sentry\"\n",
    "INFLUX_BUCKET = \"Sentry\"\n",
    "\n",
    "client = InfluxDBClient(url=INFLUX_URL, token=INFLUX_TOKEN, org=INFLUX_ORG)\n"
   ]
  },
  {
   "cell_type": "code",
   "execution_count": null,
   "id": "d2614129",
   "metadata": {},
   "outputs": [
    {
     "name": "stdout",
     "output_type": "stream",
     "text": [
      "✅ Loaded 770 symbols.\n"
     ]
    },
    {
     "ename": "KeyError",
     "evalue": "'symbol'",
     "output_type": "error",
     "traceback": [
      "\u001b[1;31m---------------------------------------------------------------------------\u001b[0m",
      "\u001b[1;31mKeyError\u001b[0m                                  Traceback (most recent call last)",
      "File \u001b[1;32mc:\\Users\\srb73\\AppData\\Local\\Programs\\Python\\Python310\\lib\\site-packages\\pandas\\core\\indexes\\base.py:3805\u001b[0m, in \u001b[0;36mIndex.get_loc\u001b[1;34m(self, key)\u001b[0m\n\u001b[0;32m   3804\u001b[0m \u001b[38;5;28;01mtry\u001b[39;00m:\n\u001b[1;32m-> 3805\u001b[0m     \u001b[38;5;28;01mreturn\u001b[39;00m \u001b[38;5;28;43mself\u001b[39;49m\u001b[38;5;241;43m.\u001b[39;49m\u001b[43m_engine\u001b[49m\u001b[38;5;241;43m.\u001b[39;49m\u001b[43mget_loc\u001b[49m\u001b[43m(\u001b[49m\u001b[43mcasted_key\u001b[49m\u001b[43m)\u001b[49m\n\u001b[0;32m   3806\u001b[0m \u001b[38;5;28;01mexcept\u001b[39;00m \u001b[38;5;167;01mKeyError\u001b[39;00m \u001b[38;5;28;01mas\u001b[39;00m err:\n",
      "File \u001b[1;32mindex.pyx:167\u001b[0m, in \u001b[0;36mpandas._libs.index.IndexEngine.get_loc\u001b[1;34m()\u001b[0m\n",
      "File \u001b[1;32mindex.pyx:196\u001b[0m, in \u001b[0;36mpandas._libs.index.IndexEngine.get_loc\u001b[1;34m()\u001b[0m\n",
      "File \u001b[1;32mpandas\\\\_libs\\\\hashtable_class_helper.pxi:7081\u001b[0m, in \u001b[0;36mpandas._libs.hashtable.PyObjectHashTable.get_item\u001b[1;34m()\u001b[0m\n",
      "File \u001b[1;32mpandas\\\\_libs\\\\hashtable_class_helper.pxi:7089\u001b[0m, in \u001b[0;36mpandas._libs.hashtable.PyObjectHashTable.get_item\u001b[1;34m()\u001b[0m\n",
      "\u001b[1;31mKeyError\u001b[0m: 'symbol'",
      "\nThe above exception was the direct cause of the following exception:\n",
      "\u001b[1;31mKeyError\u001b[0m                                  Traceback (most recent call last)",
      "Cell \u001b[1;32mIn[22], line 49\u001b[0m\n\u001b[0;32m     46\u001b[0m         \u001b[38;5;28;01mreturn\u001b[39;00m \u001b[38;5;28mset\u001b[39m(result[\u001b[38;5;124m\"\u001b[39m\u001b[38;5;124msymbol\u001b[39m\u001b[38;5;124m\"\u001b[39m]\u001b[38;5;241m.\u001b[39mdropna()\u001b[38;5;241m.\u001b[39munique())\n\u001b[0;32m     47\u001b[0m     \u001b[38;5;28;01mreturn\u001b[39;00m \u001b[38;5;28mset\u001b[39m()\n\u001b[1;32m---> 49\u001b[0m existing_symbols \u001b[38;5;241m=\u001b[39m \u001b[43mget_existing_symbols\u001b[49m\u001b[43m(\u001b[49m\u001b[43m)\u001b[49m\n\u001b[0;32m     50\u001b[0m \u001b[38;5;28mprint\u001b[39m(\u001b[38;5;124mf\u001b[39m\u001b[38;5;124m\"\u001b[39m\u001b[38;5;124m✅ \u001b[39m\u001b[38;5;132;01m{\u001b[39;00m\u001b[38;5;28mlen\u001b[39m(existing_symbols)\u001b[38;5;132;01m}\u001b[39;00m\u001b[38;5;124m symbols already exist in Influx.\u001b[39m\u001b[38;5;124m\"\u001b[39m)\n\u001b[0;32m     52\u001b[0m \u001b[38;5;66;03m# --- Write metadata ---\u001b[39;00m\n",
      "Cell \u001b[1;32mIn[22], line 46\u001b[0m, in \u001b[0;36mget_existing_symbols\u001b[1;34m()\u001b[0m\n\u001b[0;32m     44\u001b[0m result \u001b[38;5;241m=\u001b[39m query_api\u001b[38;5;241m.\u001b[39mquery_data_frame(flux_query)\n\u001b[0;32m     45\u001b[0m \u001b[38;5;28;01mif\u001b[39;00m \u001b[38;5;129;01mnot\u001b[39;00m result\u001b[38;5;241m.\u001b[39mempty:\n\u001b[1;32m---> 46\u001b[0m     \u001b[38;5;28;01mreturn\u001b[39;00m \u001b[38;5;28mset\u001b[39m(\u001b[43mresult\u001b[49m\u001b[43m[\u001b[49m\u001b[38;5;124;43m\"\u001b[39;49m\u001b[38;5;124;43msymbol\u001b[39;49m\u001b[38;5;124;43m\"\u001b[39;49m\u001b[43m]\u001b[49m\u001b[38;5;241m.\u001b[39mdropna()\u001b[38;5;241m.\u001b[39munique())\n\u001b[0;32m     47\u001b[0m \u001b[38;5;28;01mreturn\u001b[39;00m \u001b[38;5;28mset\u001b[39m()\n",
      "File \u001b[1;32mc:\\Users\\srb73\\AppData\\Local\\Programs\\Python\\Python310\\lib\\site-packages\\pandas\\core\\frame.py:4102\u001b[0m, in \u001b[0;36mDataFrame.__getitem__\u001b[1;34m(self, key)\u001b[0m\n\u001b[0;32m   4100\u001b[0m \u001b[38;5;28;01mif\u001b[39;00m \u001b[38;5;28mself\u001b[39m\u001b[38;5;241m.\u001b[39mcolumns\u001b[38;5;241m.\u001b[39mnlevels \u001b[38;5;241m>\u001b[39m \u001b[38;5;241m1\u001b[39m:\n\u001b[0;32m   4101\u001b[0m     \u001b[38;5;28;01mreturn\u001b[39;00m \u001b[38;5;28mself\u001b[39m\u001b[38;5;241m.\u001b[39m_getitem_multilevel(key)\n\u001b[1;32m-> 4102\u001b[0m indexer \u001b[38;5;241m=\u001b[39m \u001b[38;5;28;43mself\u001b[39;49m\u001b[38;5;241;43m.\u001b[39;49m\u001b[43mcolumns\u001b[49m\u001b[38;5;241;43m.\u001b[39;49m\u001b[43mget_loc\u001b[49m\u001b[43m(\u001b[49m\u001b[43mkey\u001b[49m\u001b[43m)\u001b[49m\n\u001b[0;32m   4103\u001b[0m \u001b[38;5;28;01mif\u001b[39;00m is_integer(indexer):\n\u001b[0;32m   4104\u001b[0m     indexer \u001b[38;5;241m=\u001b[39m [indexer]\n",
      "File \u001b[1;32mc:\\Users\\srb73\\AppData\\Local\\Programs\\Python\\Python310\\lib\\site-packages\\pandas\\core\\indexes\\base.py:3812\u001b[0m, in \u001b[0;36mIndex.get_loc\u001b[1;34m(self, key)\u001b[0m\n\u001b[0;32m   3807\u001b[0m     \u001b[38;5;28;01mif\u001b[39;00m \u001b[38;5;28misinstance\u001b[39m(casted_key, \u001b[38;5;28mslice\u001b[39m) \u001b[38;5;129;01mor\u001b[39;00m (\n\u001b[0;32m   3808\u001b[0m         \u001b[38;5;28misinstance\u001b[39m(casted_key, abc\u001b[38;5;241m.\u001b[39mIterable)\n\u001b[0;32m   3809\u001b[0m         \u001b[38;5;129;01mand\u001b[39;00m \u001b[38;5;28many\u001b[39m(\u001b[38;5;28misinstance\u001b[39m(x, \u001b[38;5;28mslice\u001b[39m) \u001b[38;5;28;01mfor\u001b[39;00m x \u001b[38;5;129;01min\u001b[39;00m casted_key)\n\u001b[0;32m   3810\u001b[0m     ):\n\u001b[0;32m   3811\u001b[0m         \u001b[38;5;28;01mraise\u001b[39;00m InvalidIndexError(key)\n\u001b[1;32m-> 3812\u001b[0m     \u001b[38;5;28;01mraise\u001b[39;00m \u001b[38;5;167;01mKeyError\u001b[39;00m(key) \u001b[38;5;28;01mfrom\u001b[39;00m\u001b[38;5;250m \u001b[39m\u001b[38;5;21;01merr\u001b[39;00m\n\u001b[0;32m   3813\u001b[0m \u001b[38;5;28;01mexcept\u001b[39;00m \u001b[38;5;167;01mTypeError\u001b[39;00m:\n\u001b[0;32m   3814\u001b[0m     \u001b[38;5;66;03m# If we have a listlike key, _check_indexing_error will raise\u001b[39;00m\n\u001b[0;32m   3815\u001b[0m     \u001b[38;5;66;03m#  InvalidIndexError. Otherwise we fall through and re-raise\u001b[39;00m\n\u001b[0;32m   3816\u001b[0m     \u001b[38;5;66;03m#  the TypeError.\u001b[39;00m\n\u001b[0;32m   3817\u001b[0m     \u001b[38;5;28mself\u001b[39m\u001b[38;5;241m.\u001b[39m_check_indexing_error(key)\n",
      "\u001b[1;31mKeyError\u001b[0m: 'symbol'"
     ]
    }
   ],
   "source": [
    "# --- Setup ---\n",
    "import pandas as pd\n",
    "import json\n",
    "import os\n",
    "from influxdb_client import InfluxDBClient, Point\n",
    "from influxdb_client.client.write_api import SYNCHRONOUS\n",
    "from datetime import datetime, timezone\n",
    "\n",
    "\n",
    "# --- InfluxDB Connection ---\n",
    "# Replace with your actual credentials\n",
    "INFLUX_URL = \"http://localhost:8086\"\n",
    "INFLUX_TOKEN = \"ulx8xRTPRxKpGKTf0Vl_nfioXzS7vunTOxms74HY4tXXHrfPvrgrVrmj48VCOAStqoXNVV3V2b-Bar7SR0ihUw==\"\n",
    "INFLUX_ORG = \"Sentry\"\n",
    "INFLUX_BUCKET = \"Sentry\"\n",
    "\n",
    "client = InfluxDBClient(url=INFLUX_URL, token=INFLUX_TOKEN, org=INFLUX_ORG)\n",
    "write_api = client.write_api(write_options=SYNCHRONOUS)\n",
    "query_api = client.query_api()\n",
    "\n",
    "# --- Load symbols.csv ---\n",
    "symbols_df = pd.read_csv(\"symbols.csv\")\n",
    "symbols = symbols_df[\"symbol\"].dropna().unique().tolist()\n",
    "print(f\"✅ Loaded {len(symbols)} symbols.\")\n",
    "\n",
    "# --- Fixed Buzzwords ---\n",
    "FIXED_BUZZWORDS = [\"ETF\", \"DeFi\", \"SEC\", \"Bullish\", \"Bearish\", \"Pump\", \"Crash\", \"Rally\", \"Halving\"]\n",
    "\n",
    "# --- Simple Keyword Generator ---\n",
    "def generate_keywords(symbol):\n",
    "    base = symbol.replace(\"USDT\", \"\").replace(\"BUSD\", \"\").replace(\"USD\", \"\")\n",
    "    return [base.upper(), f\"{base.upper()}/USD\", f\"{base.capitalize()}\", f\"{base.capitalize()} news\"]\n",
    "\n",
    "def get_existing_symbols():\n",
    "    flux_query = f'''\n",
    "    from(bucket: \"{INFLUX_BUCKET}\")\n",
    "    |> range(start: -90d)\n",
    "    |> filter(fn: (r) => r[\"_measurement\"] == \"symbol_metadata\")\n",
    "    |> pivot(rowKey:[\"_time\"], columnKey: [\"_field\"], valueColumn: \"_value\")\n",
    "    |> keep(columns: [\"symbol\"])\n",
    "    |> group()\n",
    "    |> distinct(column: \"symbol\")\n",
    "    '''\n",
    "    result = query_api.query_data_frame(flux_query)\n",
    "    if not result.empty:\n",
    "        return set(result[\"symbol\"].dropna().unique())\n",
    "    return set()\n",
    "\n",
    "existing_symbols = get_existing_symbols()\n",
    "print(f\"✅ {len(existing_symbols)} symbols already exist in Influx.\")\n",
    "\n",
    "# --- Write metadata ---\n",
    "new_symbols = set(symbols) - existing_symbols\n",
    "print(f\"🔄 Preparing to write {len(new_symbols)} new symbols.\")\n",
    "\n",
    "for symbol in new_symbols:\n",
    "    base_keywords = generate_keywords_for_symbol(symbol)\n",
    "    enriched_keywords = enrich_keywords(base_keywords)\n",
    "\n",
    "    now = datetime.now(timezone.utc)  # <-- Move inside the loop\n",
    "\n",
    "    point = (\n",
    "    Point(\"symbol_metadata\")  # <-- explicitly here\n",
    "    .tag(\"symbol\", symbol)\n",
    "    .field(\"keywords\", \",\".join(enriched_keywords))\n",
    "    .field(\"buzzwords\", \",\".join(COMMON_BUZZWORDS))\n",
    "    .time(now)\n",
    ")\n",
    "\n",
    "    write_api.write(bucket=INFLUX_BUCKET, record=point)\n",
    "    print(f\"✅ Metadata written for {symbol} at {now}\")\n",
    "\n",
    "\n",
    "\n",
    "print(\"🎯 All new symbols pushed successfully!\")\n"
   ]
  },
  {
   "cell_type": "code",
   "execution_count": 14,
   "id": "78ae65be",
   "metadata": {},
   "outputs": [
    {
     "name": "stdout",
     "output_type": "stream",
     "text": [
      "✅ Test write succeeded!\n"
     ]
    }
   ],
   "source": [
    "from influxdb_client import Point\n",
    "from datetime import datetime, timezone\n",
    "\n",
    "test_point = (\n",
    "    Point(\"symbol_metadata\")\n",
    "    .tag(\"symbol\", \"TESTCOIN\")\n",
    "    .field(\"keywords\", \"Test,Example,Coin\")\n",
    "    .field(\"buzzwords\", \"TestBuzz\")\n",
    "    .time(datetime.now(timezone.utc))\n",
    ")\n",
    "\n",
    "try:\n",
    "    write_api.write(bucket=INFLUX_BUCKET, record=test_point)\n",
    "    print(\"✅ Test write succeeded!\")\n",
    "except Exception as e:\n",
    "    print(f\"❌ Write failed: {e}\")\n"
   ]
  },
  {
   "cell_type": "code",
   "execution_count": 20,
   "id": "bb35af35",
   "metadata": {},
   "outputs": [
    {
     "name": "stdout",
     "output_type": "stream",
     "text": [
      "    result  table                           _start  \\\n",
      "0  _result      0 2025-04-19 21:34:46.276356+00:00   \n",
      "\n",
      "                             _stop                            _time  \\\n",
      "0 2025-04-26 21:34:46.276356+00:00 2025-04-26 21:32:03.510226+00:00   \n",
      "\n",
      "      _measurement    symbol buzzwords           keywords  \n",
      "0  symbol_metadata  TESTCOIN  TestBuzz  Test,Example,Coin  \n"
     ]
    }
   ],
   "source": [
    "query = f'''\n",
    "import \"influxdata/influxdb/schema\"\n",
    "from(bucket: \"{INFLUX_BUCKET}\")\n",
    "|> range(start: -7d)\n",
    "|> filter(fn: (r) => r[\"_measurement\"] == \"symbol_metadata\")\n",
    "|> pivot(rowKey:[\"_time\"], columnKey: [\"_field\"], valueColumn: \"_value\")\n",
    "'''\n",
    "\n",
    "df = query_api.query_data_frame(query)\n",
    "print(df)"
   ]
  }
 ],
 "metadata": {
  "kernelspec": {
   "display_name": "Python 3",
   "language": "python",
   "name": "python3"
  },
  "language_info": {
   "codemirror_mode": {
    "name": "ipython",
    "version": 3
   },
   "file_extension": ".py",
   "mimetype": "text/x-python",
   "name": "python",
   "nbconvert_exporter": "python",
   "pygments_lexer": "ipython3",
   "version": "3.10.11"
  }
 },
 "nbformat": 4,
 "nbformat_minor": 5
}
