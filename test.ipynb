{
 "cells": [
  {
   "cell_type": "code",
   "execution_count": null,
   "id": "696c0b64",
   "metadata": {
    "vscode": {
     "languageId": "plaintext"
    }
   },
   "outputs": [],
   "source": [
    "from influxdb_client import InfluxDBClient\n",
    "import os\n",
    "\n",
    "# 🔐 Replace with your actual credentials or load from environment\n",
    "INFLUX_URL = os.getenv(\"INFLUX_URL\", \"http://localhost:8086\")\n",
    "INFLUX_TOKEN = os.getenv(\"INFLUX_TOKEN\", \"sentry123\")\n",
    "INFLUX_ORG = os.getenv(\"INFLUX_ORG\", \"Sentry\")\n",
    "INFLUX_BUCKET = os.getenv(\"INFLUX_BUCKET\", \"Sentry\")\n",
    "\n",
    "client = InfluxDBClient(url=INFLUX_URL, token=INFLUX_TOKEN, org=INFLUX_ORG)\n",
    "query_api = client.query_api()\n",
    "\n",
    "# 📦 Query to list all unique symbols from any measurement\n",
    "flux_query = f'''\n",
    "import \"influxdata/influxdb/schema\"\n",
    "\n",
    "schema.tagValues(\n",
    "  bucket: \"{INFLUX_BUCKET}\",\n",
    "  tag: \"symbol\"\n",
    ")\n",
    "'''\n",
    "\n",
    "result = query_api.query_data_frame(flux_query)\n",
    "\n",
    "# ✅ Display symbols\n",
    "symbols = result[\"_value\"].dropna().unique().tolist()\n",
    "print(\"Symbols:\", symbols)\n"
   ]
  }
 ],
 "metadata": {
  "language_info": {
   "name": "python"
  }
 },
 "nbformat": 4,
 "nbformat_minor": 5
}
