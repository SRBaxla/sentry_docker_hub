{
 "cells": [
  {
   "cell_type": "code",
   "execution_count": 24,
   "id": "696c0b64",
   "metadata": {},
   "outputs": [
    {
     "ename": "ApiException",
     "evalue": "(401)\nReason: Unauthorized\nHTTP response headers: HTTPHeaderDict({'Content-Type': 'application/json; charset=utf-8', 'X-Influxdb-Build': 'OSS', 'X-Influxdb-Version': 'v2.7.11', 'X-Platform-Error-Code': 'unauthorized', 'Date': 'Sat, 26 Apr 2025 22:45:55 GMT', 'Content-Length': '55'})\nHTTP response body: b'{\"code\":\"unauthorized\",\"message\":\"unauthorized access\"}'\n",
     "output_type": "error",
     "traceback": [
      "\u001b[1;31m---------------------------------------------------------------------------\u001b[0m",
      "\u001b[1;31mApiException\u001b[0m                              Traceback (most recent call last)",
      "Cell \u001b[1;32mIn[24], line 23\u001b[0m\n\u001b[0;32m     13\u001b[0m \u001b[38;5;66;03m# 📦 Query to list all unique symbols from any measurement\u001b[39;00m\n\u001b[0;32m     14\u001b[0m flux_query \u001b[38;5;241m=\u001b[39m \u001b[38;5;124mf\u001b[39m\u001b[38;5;124m'''\u001b[39m\n\u001b[0;32m     15\u001b[0m \u001b[38;5;124mimport \u001b[39m\u001b[38;5;124m\"\u001b[39m\u001b[38;5;124minfluxdata/influxdb/schema\u001b[39m\u001b[38;5;124m\"\u001b[39m\n\u001b[0;32m     16\u001b[0m \n\u001b[1;32m   (...)\u001b[0m\n\u001b[0;32m     20\u001b[0m \u001b[38;5;124m)\u001b[39m\n\u001b[0;32m     21\u001b[0m \u001b[38;5;124m'''\u001b[39m\n\u001b[1;32m---> 23\u001b[0m result \u001b[38;5;241m=\u001b[39m \u001b[43mquery_api\u001b[49m\u001b[38;5;241;43m.\u001b[39;49m\u001b[43mquery_data_frame\u001b[49m\u001b[43m(\u001b[49m\u001b[43mflux_query\u001b[49m\u001b[43m)\u001b[49m\n\u001b[0;32m     25\u001b[0m \u001b[38;5;66;03m# ✅ Display symbols\u001b[39;00m\n\u001b[0;32m     26\u001b[0m symbols \u001b[38;5;241m=\u001b[39m result[\u001b[38;5;124m\"\u001b[39m\u001b[38;5;124m_value\u001b[39m\u001b[38;5;124m\"\u001b[39m]\u001b[38;5;241m.\u001b[39mdropna()\u001b[38;5;241m.\u001b[39munique()\u001b[38;5;241m.\u001b[39mtolist()\n",
      "File \u001b[1;32mc:\\Users\\srb73\\AppData\\Local\\Programs\\Python\\Python310\\lib\\site-packages\\influxdb_client\\client\\query_api.py:259\u001b[0m, in \u001b[0;36mQueryApi.query_data_frame\u001b[1;34m(self, query, org, data_frame_index, params, use_extension_dtypes)\u001b[0m\n\u001b[0;32m    225\u001b[0m \u001b[38;5;28;01mdef\u001b[39;00m\u001b[38;5;250m \u001b[39m\u001b[38;5;21mquery_data_frame\u001b[39m(\u001b[38;5;28mself\u001b[39m, query: \u001b[38;5;28mstr\u001b[39m, org\u001b[38;5;241m=\u001b[39m\u001b[38;5;28;01mNone\u001b[39;00m, data_frame_index: List[\u001b[38;5;28mstr\u001b[39m] \u001b[38;5;241m=\u001b[39m \u001b[38;5;28;01mNone\u001b[39;00m, params: \u001b[38;5;28mdict\u001b[39m \u001b[38;5;241m=\u001b[39m \u001b[38;5;28;01mNone\u001b[39;00m,\n\u001b[0;32m    226\u001b[0m                      use_extension_dtypes: \u001b[38;5;28mbool\u001b[39m \u001b[38;5;241m=\u001b[39m \u001b[38;5;28;01mFalse\u001b[39;00m):\n\u001b[0;32m    227\u001b[0m \u001b[38;5;250m    \u001b[39m\u001b[38;5;124;03m\"\"\"\u001b[39;00m\n\u001b[0;32m    228\u001b[0m \u001b[38;5;124;03m    Execute synchronous Flux query and return Pandas DataFrame.\u001b[39;00m\n\u001b[0;32m    229\u001b[0m \n\u001b[1;32m   (...)\u001b[0m\n\u001b[0;32m    257\u001b[0m \u001b[38;5;124;03m            - https://docs.influxdata.com/flux/latest/stdlib/influxdata/influxdb/schema/fieldsascols/\u001b[39;00m\n\u001b[0;32m    258\u001b[0m \u001b[38;5;124;03m    \"\"\"\u001b[39;00m  \u001b[38;5;66;03m# noqa: E501\u001b[39;00m\n\u001b[1;32m--> 259\u001b[0m     _generator \u001b[38;5;241m=\u001b[39m \u001b[38;5;28;43mself\u001b[39;49m\u001b[38;5;241;43m.\u001b[39;49m\u001b[43mquery_data_frame_stream\u001b[49m\u001b[43m(\u001b[49m\u001b[43mquery\u001b[49m\u001b[43m,\u001b[49m\u001b[43m \u001b[49m\u001b[43morg\u001b[49m\u001b[38;5;241;43m=\u001b[39;49m\u001b[43morg\u001b[49m\u001b[43m,\u001b[49m\u001b[43m \u001b[49m\u001b[43mdata_frame_index\u001b[49m\u001b[38;5;241;43m=\u001b[39;49m\u001b[43mdata_frame_index\u001b[49m\u001b[43m,\u001b[49m\u001b[43m \u001b[49m\u001b[43mparams\u001b[49m\u001b[38;5;241;43m=\u001b[39;49m\u001b[43mparams\u001b[49m\u001b[43m,\u001b[49m\n\u001b[0;32m    260\u001b[0m \u001b[43m                                              \u001b[49m\u001b[43muse_extension_dtypes\u001b[49m\u001b[38;5;241;43m=\u001b[39;49m\u001b[43muse_extension_dtypes\u001b[49m\u001b[43m)\u001b[49m\n\u001b[0;32m    261\u001b[0m     \u001b[38;5;28;01mreturn\u001b[39;00m \u001b[38;5;28mself\u001b[39m\u001b[38;5;241m.\u001b[39m_to_data_frames(_generator)\n",
      "File \u001b[1;32mc:\\Users\\srb73\\AppData\\Local\\Programs\\Python\\Python310\\lib\\site-packages\\influxdb_client\\client\\query_api.py:299\u001b[0m, in \u001b[0;36mQueryApi.query_data_frame_stream\u001b[1;34m(self, query, org, data_frame_index, params, use_extension_dtypes)\u001b[0m\n\u001b[0;32m    265\u001b[0m \u001b[38;5;250m\u001b[39m\u001b[38;5;124;03m\"\"\"\u001b[39;00m\n\u001b[0;32m    266\u001b[0m \u001b[38;5;124;03mExecute synchronous Flux query and return stream of Pandas DataFrame as a :class:`~Generator[DataFrame]`.\u001b[39;00m\n\u001b[0;32m    267\u001b[0m \n\u001b[1;32m   (...)\u001b[0m\n\u001b[0;32m    295\u001b[0m \u001b[38;5;124;03m        - https://docs.influxdata.com/flux/latest/stdlib/influxdata/influxdb/schema/fieldsascols/\u001b[39;00m\n\u001b[0;32m    296\u001b[0m \u001b[38;5;124;03m\"\"\"\u001b[39;00m  \u001b[38;5;66;03m# noqa: E501\u001b[39;00m\n\u001b[0;32m    297\u001b[0m org \u001b[38;5;241m=\u001b[39m \u001b[38;5;28mself\u001b[39m\u001b[38;5;241m.\u001b[39m_org_param(org)\n\u001b[1;32m--> 299\u001b[0m response \u001b[38;5;241m=\u001b[39m \u001b[38;5;28;43mself\u001b[39;49m\u001b[38;5;241;43m.\u001b[39;49m\u001b[43m_query_api\u001b[49m\u001b[38;5;241;43m.\u001b[39;49m\u001b[43mpost_query\u001b[49m\u001b[43m(\u001b[49m\u001b[43morg\u001b[49m\u001b[38;5;241;43m=\u001b[39;49m\u001b[43morg\u001b[49m\u001b[43m,\u001b[49m\u001b[43m \u001b[49m\u001b[43mquery\u001b[49m\u001b[38;5;241;43m=\u001b[39;49m\u001b[38;5;28;43mself\u001b[39;49m\u001b[38;5;241;43m.\u001b[39;49m\u001b[43m_create_query\u001b[49m\u001b[43m(\u001b[49m\u001b[43mquery\u001b[49m\u001b[43m,\u001b[49m\u001b[43m \u001b[49m\u001b[38;5;28;43mself\u001b[39;49m\u001b[38;5;241;43m.\u001b[39;49m\u001b[43mdefault_dialect\u001b[49m\u001b[43m,\u001b[49m\u001b[43m \u001b[49m\u001b[43mparams\u001b[49m\u001b[43m,\u001b[49m\n\u001b[0;32m    300\u001b[0m \u001b[43m                                                                        \u001b[49m\u001b[43mdataframe_query\u001b[49m\u001b[38;5;241;43m=\u001b[39;49m\u001b[38;5;28;43;01mTrue\u001b[39;49;00m\u001b[43m)\u001b[49m\u001b[43m,\u001b[49m\n\u001b[0;32m    301\u001b[0m \u001b[43m                                      \u001b[49m\u001b[43masync_req\u001b[49m\u001b[38;5;241;43m=\u001b[39;49m\u001b[38;5;28;43;01mFalse\u001b[39;49;00m\u001b[43m,\u001b[49m\u001b[43m \u001b[49m\u001b[43m_preload_content\u001b[49m\u001b[38;5;241;43m=\u001b[39;49m\u001b[38;5;28;43;01mFalse\u001b[39;49;00m\u001b[43m,\u001b[49m\u001b[43m \u001b[49m\u001b[43m_return_http_data_only\u001b[49m\u001b[38;5;241;43m=\u001b[39;49m\u001b[38;5;28;43;01mFalse\u001b[39;49;00m\u001b[43m)\u001b[49m\n\u001b[0;32m    303\u001b[0m \u001b[38;5;28;01mreturn\u001b[39;00m \u001b[38;5;28mself\u001b[39m\u001b[38;5;241m.\u001b[39m_to_data_frame_stream(data_frame_index\u001b[38;5;241m=\u001b[39mdata_frame_index,\n\u001b[0;32m    304\u001b[0m                                   response\u001b[38;5;241m=\u001b[39mresponse,\n\u001b[0;32m    305\u001b[0m                                   query_options\u001b[38;5;241m=\u001b[39m\u001b[38;5;28mself\u001b[39m\u001b[38;5;241m.\u001b[39m_get_query_options(),\n\u001b[0;32m    306\u001b[0m                                   use_extension_dtypes\u001b[38;5;241m=\u001b[39muse_extension_dtypes)\n",
      "File \u001b[1;32mc:\\Users\\srb73\\AppData\\Local\\Programs\\Python\\Python310\\lib\\site-packages\\influxdb_client\\service\\query_service.py:285\u001b[0m, in \u001b[0;36mQueryService.post_query\u001b[1;34m(self, **kwargs)\u001b[0m\n\u001b[0;32m    283\u001b[0m     \u001b[38;5;28;01mreturn\u001b[39;00m \u001b[38;5;28mself\u001b[39m\u001b[38;5;241m.\u001b[39mpost_query_with_http_info(\u001b[38;5;241m*\u001b[39m\u001b[38;5;241m*\u001b[39mkwargs)  \u001b[38;5;66;03m# noqa: E501\u001b[39;00m\n\u001b[0;32m    284\u001b[0m \u001b[38;5;28;01melse\u001b[39;00m:\n\u001b[1;32m--> 285\u001b[0m     (data) \u001b[38;5;241m=\u001b[39m \u001b[38;5;28mself\u001b[39m\u001b[38;5;241m.\u001b[39mpost_query_with_http_info(\u001b[38;5;241m*\u001b[39m\u001b[38;5;241m*\u001b[39mkwargs)  \u001b[38;5;66;03m# noqa: E501\u001b[39;00m\n\u001b[0;32m    286\u001b[0m     \u001b[38;5;28;01mreturn\u001b[39;00m data\n",
      "File \u001b[1;32mc:\\Users\\srb73\\AppData\\Local\\Programs\\Python\\Python310\\lib\\site-packages\\influxdb_client\\service\\query_service.py:311\u001b[0m, in \u001b[0;36mQueryService.post_query_with_http_info\u001b[1;34m(self, **kwargs)\u001b[0m\n\u001b[0;32m    289\u001b[0m \u001b[38;5;250m\u001b[39m\u001b[38;5;124;03m\"\"\"Query data.\u001b[39;00m\n\u001b[0;32m    290\u001b[0m \n\u001b[0;32m    291\u001b[0m \u001b[38;5;124;03mRetrieves data from buckets.  Use this endpoint to send a Flux query request and retrieve data from a bucket.  #### Rate limits (with InfluxDB Cloud)  `read` rate limits apply. For more information, see [limits and adjustable quotas](https://docs.influxdata.com/influxdb/cloud/account-management/limits/).  #### Related guides  - [Query with the InfluxDB API](https://docs.influxdata.com/influxdb/latest/query-data/execute-queries/influx-api/) - [Get started with Flux](https://docs.influxdata.com/flux/v0.x/get-started/)\u001b[39;00m\n\u001b[1;32m   (...)\u001b[0m\n\u001b[0;32m    306\u001b[0m \u001b[38;5;124;03m         returns the request thread.\u001b[39;00m\n\u001b[0;32m    307\u001b[0m \u001b[38;5;124;03m\"\"\"\u001b[39;00m  \u001b[38;5;66;03m# noqa: E501\u001b[39;00m\n\u001b[0;32m    308\u001b[0m local_var_params, path_params, query_params, header_params, body_params \u001b[38;5;241m=\u001b[39m \\\n\u001b[0;32m    309\u001b[0m     \u001b[38;5;28mself\u001b[39m\u001b[38;5;241m.\u001b[39m_post_query_prepare(\u001b[38;5;241m*\u001b[39m\u001b[38;5;241m*\u001b[39mkwargs)  \u001b[38;5;66;03m# noqa: E501\u001b[39;00m\n\u001b[1;32m--> 311\u001b[0m \u001b[38;5;28;01mreturn\u001b[39;00m \u001b[38;5;28;43mself\u001b[39;49m\u001b[38;5;241;43m.\u001b[39;49m\u001b[43mapi_client\u001b[49m\u001b[38;5;241;43m.\u001b[39;49m\u001b[43mcall_api\u001b[49m\u001b[43m(\u001b[49m\n\u001b[0;32m    312\u001b[0m \u001b[43m    \u001b[49m\u001b[38;5;124;43m'\u001b[39;49m\u001b[38;5;124;43m/api/v2/query\u001b[39;49m\u001b[38;5;124;43m'\u001b[39;49m\u001b[43m,\u001b[49m\u001b[43m \u001b[49m\u001b[38;5;124;43m'\u001b[39;49m\u001b[38;5;124;43mPOST\u001b[39;49m\u001b[38;5;124;43m'\u001b[39;49m\u001b[43m,\u001b[49m\n\u001b[0;32m    313\u001b[0m \u001b[43m    \u001b[49m\u001b[43mpath_params\u001b[49m\u001b[43m,\u001b[49m\n\u001b[0;32m    314\u001b[0m \u001b[43m    \u001b[49m\u001b[43mquery_params\u001b[49m\u001b[43m,\u001b[49m\n\u001b[0;32m    315\u001b[0m \u001b[43m    \u001b[49m\u001b[43mheader_params\u001b[49m\u001b[43m,\u001b[49m\n\u001b[0;32m    316\u001b[0m \u001b[43m    \u001b[49m\u001b[43mbody\u001b[49m\u001b[38;5;241;43m=\u001b[39;49m\u001b[43mbody_params\u001b[49m\u001b[43m,\u001b[49m\n\u001b[0;32m    317\u001b[0m \u001b[43m    \u001b[49m\u001b[43mpost_params\u001b[49m\u001b[38;5;241;43m=\u001b[39;49m\u001b[43m[\u001b[49m\u001b[43m]\u001b[49m\u001b[43m,\u001b[49m\n\u001b[0;32m    318\u001b[0m \u001b[43m    \u001b[49m\u001b[43mfiles\u001b[49m\u001b[38;5;241;43m=\u001b[39;49m\u001b[43m{\u001b[49m\u001b[43m}\u001b[49m\u001b[43m,\u001b[49m\n\u001b[0;32m    319\u001b[0m \u001b[43m    \u001b[49m\u001b[43mresponse_type\u001b[49m\u001b[38;5;241;43m=\u001b[39;49m\u001b[38;5;124;43m'\u001b[39;49m\u001b[38;5;124;43mstr\u001b[39;49m\u001b[38;5;124;43m'\u001b[39;49m\u001b[43m,\u001b[49m\u001b[43m  \u001b[49m\u001b[38;5;66;43;03m# noqa: E501\u001b[39;49;00m\n\u001b[0;32m    320\u001b[0m \u001b[43m    \u001b[49m\u001b[43mauth_settings\u001b[49m\u001b[38;5;241;43m=\u001b[39;49m\u001b[43m[\u001b[49m\u001b[43m]\u001b[49m\u001b[43m,\u001b[49m\n\u001b[0;32m    321\u001b[0m \u001b[43m    \u001b[49m\u001b[43masync_req\u001b[49m\u001b[38;5;241;43m=\u001b[39;49m\u001b[43mlocal_var_params\u001b[49m\u001b[38;5;241;43m.\u001b[39;49m\u001b[43mget\u001b[49m\u001b[43m(\u001b[49m\u001b[38;5;124;43m'\u001b[39;49m\u001b[38;5;124;43masync_req\u001b[39;49m\u001b[38;5;124;43m'\u001b[39;49m\u001b[43m)\u001b[49m\u001b[43m,\u001b[49m\n\u001b[0;32m    322\u001b[0m \u001b[43m    \u001b[49m\u001b[43m_return_http_data_only\u001b[49m\u001b[38;5;241;43m=\u001b[39;49m\u001b[43mlocal_var_params\u001b[49m\u001b[38;5;241;43m.\u001b[39;49m\u001b[43mget\u001b[49m\u001b[43m(\u001b[49m\u001b[38;5;124;43m'\u001b[39;49m\u001b[38;5;124;43m_return_http_data_only\u001b[39;49m\u001b[38;5;124;43m'\u001b[39;49m\u001b[43m)\u001b[49m\u001b[43m,\u001b[49m\u001b[43m  \u001b[49m\u001b[38;5;66;43;03m# noqa: E501\u001b[39;49;00m\n\u001b[0;32m    323\u001b[0m \u001b[43m    \u001b[49m\u001b[43m_preload_content\u001b[49m\u001b[38;5;241;43m=\u001b[39;49m\u001b[43mlocal_var_params\u001b[49m\u001b[38;5;241;43m.\u001b[39;49m\u001b[43mget\u001b[49m\u001b[43m(\u001b[49m\u001b[38;5;124;43m'\u001b[39;49m\u001b[38;5;124;43m_preload_content\u001b[39;49m\u001b[38;5;124;43m'\u001b[39;49m\u001b[43m,\u001b[49m\u001b[43m \u001b[49m\u001b[38;5;28;43;01mTrue\u001b[39;49;00m\u001b[43m)\u001b[49m\u001b[43m,\u001b[49m\n\u001b[0;32m    324\u001b[0m \u001b[43m    \u001b[49m\u001b[43m_request_timeout\u001b[49m\u001b[38;5;241;43m=\u001b[39;49m\u001b[43mlocal_var_params\u001b[49m\u001b[38;5;241;43m.\u001b[39;49m\u001b[43mget\u001b[49m\u001b[43m(\u001b[49m\u001b[38;5;124;43m'\u001b[39;49m\u001b[38;5;124;43m_request_timeout\u001b[39;49m\u001b[38;5;124;43m'\u001b[39;49m\u001b[43m)\u001b[49m\u001b[43m,\u001b[49m\n\u001b[0;32m    325\u001b[0m \u001b[43m    \u001b[49m\u001b[43mcollection_formats\u001b[49m\u001b[38;5;241;43m=\u001b[39;49m\u001b[43m{\u001b[49m\u001b[43m}\u001b[49m\u001b[43m,\u001b[49m\n\u001b[0;32m    326\u001b[0m \u001b[43m    \u001b[49m\u001b[43murlopen_kw\u001b[49m\u001b[38;5;241;43m=\u001b[39;49m\u001b[43mkwargs\u001b[49m\u001b[38;5;241;43m.\u001b[39;49m\u001b[43mget\u001b[49m\u001b[43m(\u001b[49m\u001b[38;5;124;43m'\u001b[39;49m\u001b[38;5;124;43murlopen_kw\u001b[39;49m\u001b[38;5;124;43m'\u001b[39;49m\u001b[43m,\u001b[49m\u001b[43m \u001b[49m\u001b[38;5;28;43;01mNone\u001b[39;49;00m\u001b[43m)\u001b[49m\u001b[43m)\u001b[49m\n",
      "File \u001b[1;32mc:\\Users\\srb73\\AppData\\Local\\Programs\\Python\\Python310\\lib\\site-packages\\influxdb_client\\_sync\\api_client.py:343\u001b[0m, in \u001b[0;36mApiClient.call_api\u001b[1;34m(self, resource_path, method, path_params, query_params, header_params, body, post_params, files, response_type, auth_settings, async_req, _return_http_data_only, collection_formats, _preload_content, _request_timeout, urlopen_kw)\u001b[0m\n\u001b[0;32m    304\u001b[0m \u001b[38;5;250m\u001b[39m\u001b[38;5;124;03m\"\"\"Make the HTTP request (synchronous) and Return deserialized data.\u001b[39;00m\n\u001b[0;32m    305\u001b[0m \n\u001b[0;32m    306\u001b[0m \u001b[38;5;124;03mTo make an async_req request, set the async_req parameter.\u001b[39;00m\n\u001b[1;32m   (...)\u001b[0m\n\u001b[0;32m    340\u001b[0m \u001b[38;5;124;03m    then the method will return the response directly.\u001b[39;00m\n\u001b[0;32m    341\u001b[0m \u001b[38;5;124;03m\"\"\"\u001b[39;00m\n\u001b[0;32m    342\u001b[0m \u001b[38;5;28;01mif\u001b[39;00m \u001b[38;5;129;01mnot\u001b[39;00m async_req:\n\u001b[1;32m--> 343\u001b[0m     \u001b[38;5;28;01mreturn\u001b[39;00m \u001b[38;5;28;43mself\u001b[39;49m\u001b[38;5;241;43m.\u001b[39;49m\u001b[43m__call_api\u001b[49m\u001b[43m(\u001b[49m\u001b[43mresource_path\u001b[49m\u001b[43m,\u001b[49m\u001b[43m \u001b[49m\u001b[43mmethod\u001b[49m\u001b[43m,\u001b[49m\n\u001b[0;32m    344\u001b[0m \u001b[43m                           \u001b[49m\u001b[43mpath_params\u001b[49m\u001b[43m,\u001b[49m\u001b[43m \u001b[49m\u001b[43mquery_params\u001b[49m\u001b[43m,\u001b[49m\u001b[43m \u001b[49m\u001b[43mheader_params\u001b[49m\u001b[43m,\u001b[49m\n\u001b[0;32m    345\u001b[0m \u001b[43m                           \u001b[49m\u001b[43mbody\u001b[49m\u001b[43m,\u001b[49m\u001b[43m \u001b[49m\u001b[43mpost_params\u001b[49m\u001b[43m,\u001b[49m\u001b[43m \u001b[49m\u001b[43mfiles\u001b[49m\u001b[43m,\u001b[49m\n\u001b[0;32m    346\u001b[0m \u001b[43m                           \u001b[49m\u001b[43mresponse_type\u001b[49m\u001b[43m,\u001b[49m\u001b[43m \u001b[49m\u001b[43mauth_settings\u001b[49m\u001b[43m,\u001b[49m\n\u001b[0;32m    347\u001b[0m \u001b[43m                           \u001b[49m\u001b[43m_return_http_data_only\u001b[49m\u001b[43m,\u001b[49m\u001b[43m \u001b[49m\u001b[43mcollection_formats\u001b[49m\u001b[43m,\u001b[49m\n\u001b[0;32m    348\u001b[0m \u001b[43m                           \u001b[49m\u001b[43m_preload_content\u001b[49m\u001b[43m,\u001b[49m\u001b[43m \u001b[49m\u001b[43m_request_timeout\u001b[49m\u001b[43m,\u001b[49m\u001b[43m \u001b[49m\u001b[43murlopen_kw\u001b[49m\u001b[43m)\u001b[49m\n\u001b[0;32m    349\u001b[0m \u001b[38;5;28;01melse\u001b[39;00m:\n\u001b[0;32m    350\u001b[0m     thread \u001b[38;5;241m=\u001b[39m \u001b[38;5;28mself\u001b[39m\u001b[38;5;241m.\u001b[39mpool\u001b[38;5;241m.\u001b[39mapply_async(\u001b[38;5;28mself\u001b[39m\u001b[38;5;241m.\u001b[39m__call_api, (resource_path,\n\u001b[0;32m    351\u001b[0m                                    method, path_params, query_params,\n\u001b[0;32m    352\u001b[0m                                    header_params, body,\n\u001b[1;32m   (...)\u001b[0m\n\u001b[0;32m    356\u001b[0m                                    collection_formats,\n\u001b[0;32m    357\u001b[0m                                    _preload_content, _request_timeout, urlopen_kw))\n",
      "File \u001b[1;32mc:\\Users\\srb73\\AppData\\Local\\Programs\\Python\\Python310\\lib\\site-packages\\influxdb_client\\_sync\\api_client.py:173\u001b[0m, in \u001b[0;36mApiClient.__call_api\u001b[1;34m(self, resource_path, method, path_params, query_params, header_params, body, post_params, files, response_type, auth_settings, _return_http_data_only, collection_formats, _preload_content, _request_timeout, urlopen_kw)\u001b[0m\n\u001b[0;32m    170\u001b[0m urlopen_kw \u001b[38;5;241m=\u001b[39m urlopen_kw \u001b[38;5;129;01mor\u001b[39;00m {}\n\u001b[0;32m    172\u001b[0m \u001b[38;5;66;03m# perform request and return response\u001b[39;00m\n\u001b[1;32m--> 173\u001b[0m response_data \u001b[38;5;241m=\u001b[39m \u001b[38;5;28mself\u001b[39m\u001b[38;5;241m.\u001b[39mrequest(\n\u001b[0;32m    174\u001b[0m     method, url, query_params\u001b[38;5;241m=\u001b[39mquery_params, headers\u001b[38;5;241m=\u001b[39mheader_params,\n\u001b[0;32m    175\u001b[0m     post_params\u001b[38;5;241m=\u001b[39mpost_params, body\u001b[38;5;241m=\u001b[39mbody,\n\u001b[0;32m    176\u001b[0m     _preload_content\u001b[38;5;241m=\u001b[39m_preload_content,\n\u001b[0;32m    177\u001b[0m     _request_timeout\u001b[38;5;241m=\u001b[39m_request_timeout, \u001b[38;5;241m*\u001b[39m\u001b[38;5;241m*\u001b[39murlopen_kw)\n\u001b[0;32m    179\u001b[0m \u001b[38;5;28mself\u001b[39m\u001b[38;5;241m.\u001b[39mlast_response \u001b[38;5;241m=\u001b[39m response_data\n\u001b[0;32m    181\u001b[0m return_data \u001b[38;5;241m=\u001b[39m response_data\n",
      "File \u001b[1;32mc:\\Users\\srb73\\AppData\\Local\\Programs\\Python\\Python310\\lib\\site-packages\\influxdb_client\\_sync\\api_client.py:388\u001b[0m, in \u001b[0;36mApiClient.request\u001b[1;34m(self, method, url, query_params, headers, post_params, body, _preload_content, _request_timeout, **urlopen_kw)\u001b[0m\n\u001b[0;32m    379\u001b[0m     \u001b[38;5;28;01mreturn\u001b[39;00m \u001b[38;5;28mself\u001b[39m\u001b[38;5;241m.\u001b[39mrest_client\u001b[38;5;241m.\u001b[39mOPTIONS(url,\n\u001b[0;32m    380\u001b[0m                                     query_params\u001b[38;5;241m=\u001b[39mquery_params,\n\u001b[0;32m    381\u001b[0m                                     headers\u001b[38;5;241m=\u001b[39mheaders,\n\u001b[1;32m   (...)\u001b[0m\n\u001b[0;32m    385\u001b[0m                                     body\u001b[38;5;241m=\u001b[39mbody,\n\u001b[0;32m    386\u001b[0m                                     \u001b[38;5;241m*\u001b[39m\u001b[38;5;241m*\u001b[39murlopen_kw)\n\u001b[0;32m    387\u001b[0m \u001b[38;5;28;01melif\u001b[39;00m method \u001b[38;5;241m==\u001b[39m \u001b[38;5;124m\"\u001b[39m\u001b[38;5;124mPOST\u001b[39m\u001b[38;5;124m\"\u001b[39m:\n\u001b[1;32m--> 388\u001b[0m     \u001b[38;5;28;01mreturn\u001b[39;00m \u001b[38;5;28mself\u001b[39m\u001b[38;5;241m.\u001b[39mrest_client\u001b[38;5;241m.\u001b[39mPOST(url,\n\u001b[0;32m    389\u001b[0m                                  query_params\u001b[38;5;241m=\u001b[39mquery_params,\n\u001b[0;32m    390\u001b[0m                                  headers\u001b[38;5;241m=\u001b[39mheaders,\n\u001b[0;32m    391\u001b[0m                                  post_params\u001b[38;5;241m=\u001b[39mpost_params,\n\u001b[0;32m    392\u001b[0m                                  _preload_content\u001b[38;5;241m=\u001b[39m_preload_content,\n\u001b[0;32m    393\u001b[0m                                  _request_timeout\u001b[38;5;241m=\u001b[39m_request_timeout,\n\u001b[0;32m    394\u001b[0m                                  body\u001b[38;5;241m=\u001b[39mbody,\n\u001b[0;32m    395\u001b[0m                                  \u001b[38;5;241m*\u001b[39m\u001b[38;5;241m*\u001b[39murlopen_kw)\n\u001b[0;32m    396\u001b[0m \u001b[38;5;28;01melif\u001b[39;00m method \u001b[38;5;241m==\u001b[39m \u001b[38;5;124m\"\u001b[39m\u001b[38;5;124mPUT\u001b[39m\u001b[38;5;124m\"\u001b[39m:\n\u001b[0;32m    397\u001b[0m     \u001b[38;5;28;01mreturn\u001b[39;00m \u001b[38;5;28mself\u001b[39m\u001b[38;5;241m.\u001b[39mrest_client\u001b[38;5;241m.\u001b[39mPUT(url,\n\u001b[0;32m    398\u001b[0m                                 query_params\u001b[38;5;241m=\u001b[39mquery_params,\n\u001b[0;32m    399\u001b[0m                                 headers\u001b[38;5;241m=\u001b[39mheaders,\n\u001b[1;32m   (...)\u001b[0m\n\u001b[0;32m    403\u001b[0m                                 body\u001b[38;5;241m=\u001b[39mbody,\n\u001b[0;32m    404\u001b[0m                                 \u001b[38;5;241m*\u001b[39m\u001b[38;5;241m*\u001b[39murlopen_kw)\n",
      "File \u001b[1;32mc:\\Users\\srb73\\AppData\\Local\\Programs\\Python\\Python310\\lib\\site-packages\\influxdb_client\\_sync\\rest.py:311\u001b[0m, in \u001b[0;36mRESTClientObject.POST\u001b[1;34m(self, url, headers, query_params, post_params, body, _preload_content, _request_timeout, **urlopen_kw)\u001b[0m\n\u001b[0;32m    308\u001b[0m \u001b[38;5;28;01mdef\u001b[39;00m\u001b[38;5;250m \u001b[39m\u001b[38;5;21mPOST\u001b[39m(\u001b[38;5;28mself\u001b[39m, url, headers\u001b[38;5;241m=\u001b[39m\u001b[38;5;28;01mNone\u001b[39;00m, query_params\u001b[38;5;241m=\u001b[39m\u001b[38;5;28;01mNone\u001b[39;00m, post_params\u001b[38;5;241m=\u001b[39m\u001b[38;5;28;01mNone\u001b[39;00m,\n\u001b[0;32m    309\u001b[0m          body\u001b[38;5;241m=\u001b[39m\u001b[38;5;28;01mNone\u001b[39;00m, _preload_content\u001b[38;5;241m=\u001b[39m\u001b[38;5;28;01mTrue\u001b[39;00m, _request_timeout\u001b[38;5;241m=\u001b[39m\u001b[38;5;28;01mNone\u001b[39;00m, \u001b[38;5;241m*\u001b[39m\u001b[38;5;241m*\u001b[39murlopen_kw):\n\u001b[0;32m    310\u001b[0m \u001b[38;5;250m    \u001b[39m\u001b[38;5;124;03m\"\"\"Perform POST HTTP request.\"\"\"\u001b[39;00m\n\u001b[1;32m--> 311\u001b[0m     \u001b[38;5;28;01mreturn\u001b[39;00m \u001b[38;5;28mself\u001b[39m\u001b[38;5;241m.\u001b[39mrequest(\u001b[38;5;124m\"\u001b[39m\u001b[38;5;124mPOST\u001b[39m\u001b[38;5;124m\"\u001b[39m, url,\n\u001b[0;32m    312\u001b[0m                         headers\u001b[38;5;241m=\u001b[39mheaders,\n\u001b[0;32m    313\u001b[0m                         query_params\u001b[38;5;241m=\u001b[39mquery_params,\n\u001b[0;32m    314\u001b[0m                         post_params\u001b[38;5;241m=\u001b[39mpost_params,\n\u001b[0;32m    315\u001b[0m                         _preload_content\u001b[38;5;241m=\u001b[39m_preload_content,\n\u001b[0;32m    316\u001b[0m                         _request_timeout\u001b[38;5;241m=\u001b[39m_request_timeout,\n\u001b[0;32m    317\u001b[0m                         body\u001b[38;5;241m=\u001b[39mbody,\n\u001b[0;32m    318\u001b[0m                         \u001b[38;5;241m*\u001b[39m\u001b[38;5;241m*\u001b[39murlopen_kw)\n",
      "File \u001b[1;32mc:\\Users\\srb73\\AppData\\Local\\Programs\\Python\\Python310\\lib\\site-packages\\influxdb_client\\_sync\\rest.py:261\u001b[0m, in \u001b[0;36mRESTClientObject.request\u001b[1;34m(self, method, url, query_params, headers, body, post_params, _preload_content, _request_timeout, **urlopen_kw)\u001b[0m\n\u001b[0;32m    258\u001b[0m     _BaseRESTClient\u001b[38;5;241m.\u001b[39mlog_body(r\u001b[38;5;241m.\u001b[39mdata, \u001b[38;5;124m'\u001b[39m\u001b[38;5;124m<<<\u001b[39m\u001b[38;5;124m'\u001b[39m)\n\u001b[0;32m    260\u001b[0m \u001b[38;5;28;01mif\u001b[39;00m \u001b[38;5;129;01mnot\u001b[39;00m \u001b[38;5;241m200\u001b[39m \u001b[38;5;241m<\u001b[39m\u001b[38;5;241m=\u001b[39m r\u001b[38;5;241m.\u001b[39mstatus \u001b[38;5;241m<\u001b[39m\u001b[38;5;241m=\u001b[39m \u001b[38;5;241m299\u001b[39m:\n\u001b[1;32m--> 261\u001b[0m     \u001b[38;5;28;01mraise\u001b[39;00m ApiException(http_resp\u001b[38;5;241m=\u001b[39mr)\n\u001b[0;32m    263\u001b[0m \u001b[38;5;28;01mreturn\u001b[39;00m r\n",
      "\u001b[1;31mApiException\u001b[0m: (401)\nReason: Unauthorized\nHTTP response headers: HTTPHeaderDict({'Content-Type': 'application/json; charset=utf-8', 'X-Influxdb-Build': 'OSS', 'X-Influxdb-Version': 'v2.7.11', 'X-Platform-Error-Code': 'unauthorized', 'Date': 'Sat, 26 Apr 2025 22:45:55 GMT', 'Content-Length': '55'})\nHTTP response body: b'{\"code\":\"unauthorized\",\"message\":\"unauthorized access\"}'\n"
     ]
    }
   ],
   "source": [
    "from influxdb_client import InfluxDBClient\n",
    "import os\n",
    "\n",
    "# 🔐 Replace with your actual credentials or load from environment\n",
    "INFLUX_URL = os.getenv(\"INFLUX_URL\", \"http://localhost:8086\")\n",
    "INFLUX_TOKEN = os.getenv(\"INFLUX_TOKEN\")\n",
    "INFLUX_ORG = os.getenv(\"INFLUX_ORG\", \"Sentry\")\n",
    "INFLUX_BUCKET = os.getenv(\"INFLUX_BUCKET\", \"Sentry\")\n",
    "\n",
    "client = InfluxDBClient(url=INFLUX_URL, token=INFLUX_TOKEN, org=INFLUX_ORG)\n",
    "query_api = client.query_api()\n",
    "\n",
    "# 📦 Query to list all unique symbols from any measurement\n",
    "flux_query = f'''\n",
    "import \"influxdata/influxdb/schema\"\n",
    "\n",
    "schema.tagValues(\n",
    "  bucket: \"{INFLUX_BUCKET}\",\n",
    "  tag: \"symbol\"\n",
    ")\n",
    "'''\n",
    "\n",
    "result = query_api.query_data_frame(flux_query)\n",
    "\n",
    "# ✅ Display symbols\n",
    "symbols = result[\"_value\"].dropna().unique().tolist()\n",
    "print(\"Symbols:\", symbols)\n"
   ]
  },
  {
   "cell_type": "code",
   "execution_count": 25,
   "id": "0b83d251",
   "metadata": {},
   "outputs": [
    {
     "name": "stdout",
     "output_type": "stream",
     "text": [
      "✅ Symbols saved to symbols.csv\n"
     ]
    }
   ],
   "source": [
    "import pandas as pd\n",
    "\n",
    "pd.DataFrame(symbols, columns=[\"symbol\"]).to_csv(\"symbols.csv\", index=False)\n",
    "print(\"✅ Symbols saved to symbols.csv\")\n"
   ]
  },
  {
   "cell_type": "code",
   "execution_count": 17,
   "id": "6ef5bf26",
   "metadata": {},
   "outputs": [],
   "source": [
    "import requests\n",
    "\n",
    "COMMON_BUZZWORDS = [\"ETF\", \"SEC\", \"DeFi\", \"halving\", \"bullish\", \"bearish\"]\n",
    "\n",
    "def generate_keywords_for_symbol(symbol):\n",
    "    # Remove quote currencies\n",
    "    base_symbol = symbol.replace(\"USDT\", \"\").replace(\"BUSD\", \"\").replace(\"USD\", \"\")\n",
    "\n",
    "    try:\n",
    "        url = \"https://api.coingecko.com/api/v3/coins/list\"\n",
    "        response = requests.get(url, timeout=10)\n",
    "        coins = response.json()\n",
    "\n",
    "        for coin in coins:\n",
    "            if coin[\"symbol\"].lower() == base_symbol.lower():\n",
    "                name = coin[\"name\"]\n",
    "                return [\n",
    "                    name,\n",
    "                    base_symbol.upper(),\n",
    "                    f\"{base_symbol.upper()}/USD\",\n",
    "                    f\"{name} price\",\n",
    "                    f\"{name} news\"\n",
    "                ]\n",
    "    except Exception as e:\n",
    "        print(f\"⚠️ API Error for {symbol}: {e}\")\n",
    "\n",
    "    # If no match found\n",
    "    return [\n",
    "        base_symbol.upper(),\n",
    "        f\"{base_symbol.upper()}/USD\",\n",
    "        \"cryptocurrency\"\n",
    "    ]\n",
    "\n",
    "def enrich_keywords(keywords):\n",
    "    return keywords + COMMON_BUZZWORDS\n"
   ]
  },
  {
   "cell_type": "code",
   "execution_count": 26,
   "id": "f0bdc953",
   "metadata": {},
   "outputs": [],
   "source": [
    "from correlation_engine.metadata_generator import run_metadata_generation, fetch_symbols"
   ]
  },
  {
   "cell_type": "code",
   "execution_count": 18,
   "id": "29e23f42",
   "metadata": {},
   "outputs": [
    {
     "name": "stdout",
     "output_type": "stream",
     "text": [
      "['Bifrost Bridged ETH (Bifrost)', 'ETH', 'ETH/USD', 'Bifrost Bridged ETH (Bifrost) price', 'Bifrost Bridged ETH (Bifrost) news']\n"
     ]
    }
   ],
   "source": [
    "keywords_btc = generate_keywords_for_symbol(\"ETH\")\n",
    "print(keywords_btc)\n",
    "\n",
    "# Output:\n",
    "# ['Bitcoin', 'BTC', 'BTC/USD', 'Bitcoin price', 'Bitcoin news']\n"
   ]
  },
  {
   "cell_type": "code",
   "execution_count": 1,
   "id": "4607a603",
   "metadata": {},
   "outputs": [],
   "source": [
    "from influxdb_client import InfluxDBClient\n",
    "\n",
    "# Replace with your actual credentials\n",
    "INFLUX_URL = \"http://localhost:8086\"\n",
    "INFLUX_TOKEN = \"ulx8xRTPRxKpGKTf0Vl_nfioXzS7vunTOxms74HY4tXXHrfPvrgrVrmj48VCOAStqoXNVV3V2b-Bar7SR0ihUw==\"\n",
    "INFLUX_ORG = \"Sentry\"\n",
    "INFLUX_BUCKET = \"Sentry\"\n",
    "\n",
    "client = InfluxDBClient(url=INFLUX_URL, token=INFLUX_TOKEN, org=INFLUX_ORG)\n"
   ]
  },
  {
   "cell_type": "code",
   "execution_count": null,
   "id": "d2614129",
   "metadata": {},
   "outputs": [
    {
     "name": "stdout",
     "output_type": "stream",
     "text": [
      "✅ Loaded 770 symbols.\n"
     ]
    },
    {
     "ename": "KeyError",
     "evalue": "'symbol'",
     "output_type": "error",
     "traceback": [
      "\u001b[1;31m---------------------------------------------------------------------------\u001b[0m",
      "\u001b[1;31mKeyError\u001b[0m                                  Traceback (most recent call last)",
      "File \u001b[1;32mc:\\Users\\srb73\\AppData\\Local\\Programs\\Python\\Python310\\lib\\site-packages\\pandas\\core\\indexes\\base.py:3805\u001b[0m, in \u001b[0;36mIndex.get_loc\u001b[1;34m(self, key)\u001b[0m\n\u001b[0;32m   3804\u001b[0m \u001b[38;5;28;01mtry\u001b[39;00m:\n\u001b[1;32m-> 3805\u001b[0m     \u001b[38;5;28;01mreturn\u001b[39;00m \u001b[38;5;28;43mself\u001b[39;49m\u001b[38;5;241;43m.\u001b[39;49m\u001b[43m_engine\u001b[49m\u001b[38;5;241;43m.\u001b[39;49m\u001b[43mget_loc\u001b[49m\u001b[43m(\u001b[49m\u001b[43mcasted_key\u001b[49m\u001b[43m)\u001b[49m\n\u001b[0;32m   3806\u001b[0m \u001b[38;5;28;01mexcept\u001b[39;00m \u001b[38;5;167;01mKeyError\u001b[39;00m \u001b[38;5;28;01mas\u001b[39;00m err:\n",
      "File \u001b[1;32mindex.pyx:167\u001b[0m, in \u001b[0;36mpandas._libs.index.IndexEngine.get_loc\u001b[1;34m()\u001b[0m\n",
      "File \u001b[1;32mindex.pyx:196\u001b[0m, in \u001b[0;36mpandas._libs.index.IndexEngine.get_loc\u001b[1;34m()\u001b[0m\n",
      "File \u001b[1;32mpandas\\\\_libs\\\\hashtable_class_helper.pxi:7081\u001b[0m, in \u001b[0;36mpandas._libs.hashtable.PyObjectHashTable.get_item\u001b[1;34m()\u001b[0m\n",
      "File \u001b[1;32mpandas\\\\_libs\\\\hashtable_class_helper.pxi:7089\u001b[0m, in \u001b[0;36mpandas._libs.hashtable.PyObjectHashTable.get_item\u001b[1;34m()\u001b[0m\n",
      "\u001b[1;31mKeyError\u001b[0m: 'symbol'",
      "\nThe above exception was the direct cause of the following exception:\n",
      "\u001b[1;31mKeyError\u001b[0m                                  Traceback (most recent call last)",
      "Cell \u001b[1;32mIn[22], line 49\u001b[0m\n\u001b[0;32m     46\u001b[0m         \u001b[38;5;28;01mreturn\u001b[39;00m \u001b[38;5;28mset\u001b[39m(result[\u001b[38;5;124m\"\u001b[39m\u001b[38;5;124msymbol\u001b[39m\u001b[38;5;124m\"\u001b[39m]\u001b[38;5;241m.\u001b[39mdropna()\u001b[38;5;241m.\u001b[39munique())\n\u001b[0;32m     47\u001b[0m     \u001b[38;5;28;01mreturn\u001b[39;00m \u001b[38;5;28mset\u001b[39m()\n\u001b[1;32m---> 49\u001b[0m existing_symbols \u001b[38;5;241m=\u001b[39m \u001b[43mget_existing_symbols\u001b[49m\u001b[43m(\u001b[49m\u001b[43m)\u001b[49m\n\u001b[0;32m     50\u001b[0m \u001b[38;5;28mprint\u001b[39m(\u001b[38;5;124mf\u001b[39m\u001b[38;5;124m\"\u001b[39m\u001b[38;5;124m✅ \u001b[39m\u001b[38;5;132;01m{\u001b[39;00m\u001b[38;5;28mlen\u001b[39m(existing_symbols)\u001b[38;5;132;01m}\u001b[39;00m\u001b[38;5;124m symbols already exist in Influx.\u001b[39m\u001b[38;5;124m\"\u001b[39m)\n\u001b[0;32m     52\u001b[0m \u001b[38;5;66;03m# --- Write metadata ---\u001b[39;00m\n",
      "Cell \u001b[1;32mIn[22], line 46\u001b[0m, in \u001b[0;36mget_existing_symbols\u001b[1;34m()\u001b[0m\n\u001b[0;32m     44\u001b[0m result \u001b[38;5;241m=\u001b[39m query_api\u001b[38;5;241m.\u001b[39mquery_data_frame(flux_query)\n\u001b[0;32m     45\u001b[0m \u001b[38;5;28;01mif\u001b[39;00m \u001b[38;5;129;01mnot\u001b[39;00m result\u001b[38;5;241m.\u001b[39mempty:\n\u001b[1;32m---> 46\u001b[0m     \u001b[38;5;28;01mreturn\u001b[39;00m \u001b[38;5;28mset\u001b[39m(\u001b[43mresult\u001b[49m\u001b[43m[\u001b[49m\u001b[38;5;124;43m\"\u001b[39;49m\u001b[38;5;124;43msymbol\u001b[39;49m\u001b[38;5;124;43m\"\u001b[39;49m\u001b[43m]\u001b[49m\u001b[38;5;241m.\u001b[39mdropna()\u001b[38;5;241m.\u001b[39munique())\n\u001b[0;32m     47\u001b[0m \u001b[38;5;28;01mreturn\u001b[39;00m \u001b[38;5;28mset\u001b[39m()\n",
      "File \u001b[1;32mc:\\Users\\srb73\\AppData\\Local\\Programs\\Python\\Python310\\lib\\site-packages\\pandas\\core\\frame.py:4102\u001b[0m, in \u001b[0;36mDataFrame.__getitem__\u001b[1;34m(self, key)\u001b[0m\n\u001b[0;32m   4100\u001b[0m \u001b[38;5;28;01mif\u001b[39;00m \u001b[38;5;28mself\u001b[39m\u001b[38;5;241m.\u001b[39mcolumns\u001b[38;5;241m.\u001b[39mnlevels \u001b[38;5;241m>\u001b[39m \u001b[38;5;241m1\u001b[39m:\n\u001b[0;32m   4101\u001b[0m     \u001b[38;5;28;01mreturn\u001b[39;00m \u001b[38;5;28mself\u001b[39m\u001b[38;5;241m.\u001b[39m_getitem_multilevel(key)\n\u001b[1;32m-> 4102\u001b[0m indexer \u001b[38;5;241m=\u001b[39m \u001b[38;5;28;43mself\u001b[39;49m\u001b[38;5;241;43m.\u001b[39;49m\u001b[43mcolumns\u001b[49m\u001b[38;5;241;43m.\u001b[39;49m\u001b[43mget_loc\u001b[49m\u001b[43m(\u001b[49m\u001b[43mkey\u001b[49m\u001b[43m)\u001b[49m\n\u001b[0;32m   4103\u001b[0m \u001b[38;5;28;01mif\u001b[39;00m is_integer(indexer):\n\u001b[0;32m   4104\u001b[0m     indexer \u001b[38;5;241m=\u001b[39m [indexer]\n",
      "File \u001b[1;32mc:\\Users\\srb73\\AppData\\Local\\Programs\\Python\\Python310\\lib\\site-packages\\pandas\\core\\indexes\\base.py:3812\u001b[0m, in \u001b[0;36mIndex.get_loc\u001b[1;34m(self, key)\u001b[0m\n\u001b[0;32m   3807\u001b[0m     \u001b[38;5;28;01mif\u001b[39;00m \u001b[38;5;28misinstance\u001b[39m(casted_key, \u001b[38;5;28mslice\u001b[39m) \u001b[38;5;129;01mor\u001b[39;00m (\n\u001b[0;32m   3808\u001b[0m         \u001b[38;5;28misinstance\u001b[39m(casted_key, abc\u001b[38;5;241m.\u001b[39mIterable)\n\u001b[0;32m   3809\u001b[0m         \u001b[38;5;129;01mand\u001b[39;00m \u001b[38;5;28many\u001b[39m(\u001b[38;5;28misinstance\u001b[39m(x, \u001b[38;5;28mslice\u001b[39m) \u001b[38;5;28;01mfor\u001b[39;00m x \u001b[38;5;129;01min\u001b[39;00m casted_key)\n\u001b[0;32m   3810\u001b[0m     ):\n\u001b[0;32m   3811\u001b[0m         \u001b[38;5;28;01mraise\u001b[39;00m InvalidIndexError(key)\n\u001b[1;32m-> 3812\u001b[0m     \u001b[38;5;28;01mraise\u001b[39;00m \u001b[38;5;167;01mKeyError\u001b[39;00m(key) \u001b[38;5;28;01mfrom\u001b[39;00m\u001b[38;5;250m \u001b[39m\u001b[38;5;21;01merr\u001b[39;00m\n\u001b[0;32m   3813\u001b[0m \u001b[38;5;28;01mexcept\u001b[39;00m \u001b[38;5;167;01mTypeError\u001b[39;00m:\n\u001b[0;32m   3814\u001b[0m     \u001b[38;5;66;03m# If we have a listlike key, _check_indexing_error will raise\u001b[39;00m\n\u001b[0;32m   3815\u001b[0m     \u001b[38;5;66;03m#  InvalidIndexError. Otherwise we fall through and re-raise\u001b[39;00m\n\u001b[0;32m   3816\u001b[0m     \u001b[38;5;66;03m#  the TypeError.\u001b[39;00m\n\u001b[0;32m   3817\u001b[0m     \u001b[38;5;28mself\u001b[39m\u001b[38;5;241m.\u001b[39m_check_indexing_error(key)\n",
      "\u001b[1;31mKeyError\u001b[0m: 'symbol'"
     ]
    }
   ],
   "source": [
    "# --- Setup ---\n",
    "import pandas as pd\n",
    "import json\n",
    "import os\n",
    "from influxdb_client import InfluxDBClient, Point\n",
    "from influxdb_client.client.write_api import SYNCHRONOUS\n",
    "from datetime import datetime, timezone\n",
    "\n",
    "\n",
    "# --- InfluxDB Connection ---\n",
    "# Replace with your actual credentials\n",
    "INFLUX_URL = \"http://localhost:8086\"\n",
    "INFLUX_TOKEN = \"ulx8xRTPRxKpGKTf0Vl_nfioXzS7vunTOxms74HY4tXXHrfPvrgrVrmj48VCOAStqoXNVV3V2b-Bar7SR0ihUw==\"\n",
    "INFLUX_ORG = \"Sentry\"\n",
    "INFLUX_BUCKET = \"Sentry\"\n",
    "\n",
    "client = InfluxDBClient(url=INFLUX_URL, token=INFLUX_TOKEN, org=INFLUX_ORG)\n",
    "write_api = client.write_api(write_options=SYNCHRONOUS)\n",
    "query_api = client.query_api()\n",
    "\n",
    "# --- Load symbols.csv ---\n",
    "symbols_df = pd.read_csv(\"symbols.csv\")\n",
    "symbols = symbols_df[\"symbol\"].dropna().unique().tolist()\n",
    "print(f\"✅ Loaded {len(symbols)} symbols.\")\n",
    "\n",
    "# --- Fixed Buzzwords ---\n",
    "FIXED_BUZZWORDS = [\"ETF\", \"DeFi\", \"SEC\", \"Bullish\", \"Bearish\", \"Pump\", \"Crash\", \"Rally\", \"Halving\"]\n",
    "\n",
    "# --- Simple Keyword Generator ---\n",
    "def generate_keywords(symbol):\n",
    "    base = symbol.replace(\"USDT\", \"\").replace(\"BUSD\", \"\").replace(\"USD\", \"\")\n",
    "    return [base.upper(), f\"{base.upper()}/USD\", f\"{base.capitalize()}\", f\"{base.capitalize()} news\"]\n",
    "\n",
    "def get_existing_symbols():\n",
    "    flux_query = f'''\n",
    "    from(bucket: \"{INFLUX_BUCKET}\")\n",
    "    |> range(start: -90d)\n",
    "    |> filter(fn: (r) => r[\"_measurement\"] == \"symbol_metadata\")\n",
    "    |> pivot(rowKey:[\"_time\"], columnKey: [\"_field\"], valueColumn: \"_value\")\n",
    "    |> keep(columns: [\"symbol\"])\n",
    "    |> group()\n",
    "    |> distinct(column: \"symbol\")\n",
    "    '''\n",
    "    result = query_api.query_data_frame(flux_query)\n",
    "    if not result.empty:\n",
    "        return set(result[\"symbol\"].dropna().unique())\n",
    "    return set()\n",
    "\n",
    "existing_symbols = get_existing_symbols()\n",
    "print(f\"✅ {len(existing_symbols)} symbols already exist in Influx.\")\n",
    "\n",
    "# --- Write metadata ---\n",
    "new_symbols = set(symbols) - existing_symbols\n",
    "print(f\"🔄 Preparing to write {len(new_symbols)} new symbols.\")\n",
    "\n",
    "for symbol in new_symbols:\n",
    "    base_keywords = generate_keywords_for_symbol(symbol)\n",
    "    enriched_keywords = enrich_keywords(base_keywords)\n",
    "\n",
    "    now = datetime.now(timezone.utc)  # <-- Move inside the loop\n",
    "\n",
    "    point = (\n",
    "    Point(\"symbol_metadata\")  # <-- explicitly here\n",
    "    .tag(\"symbol\", symbol)\n",
    "    .field(\"keywords\", \",\".join(enriched_keywords))\n",
    "    .field(\"buzzwords\", \",\".join(COMMON_BUZZWORDS))\n",
    "    .time(now)\n",
    ")\n",
    "\n",
    "    write_api.write(bucket=INFLUX_BUCKET, record=point)\n",
    "    print(f\"✅ Metadata written for {symbol} at {now}\")\n",
    "\n",
    "\n",
    "\n",
    "print(\"🎯 All new symbols pushed successfully!\")\n"
   ]
  },
  {
   "cell_type": "code",
   "execution_count": 14,
   "id": "78ae65be",
   "metadata": {},
   "outputs": [
    {
     "name": "stdout",
     "output_type": "stream",
     "text": [
      "✅ Test write succeeded!\n"
     ]
    }
   ],
   "source": [
    "from influxdb_client import Point\n",
    "from datetime import datetime, timezone\n",
    "\n",
    "test_point = (\n",
    "    Point(\"symbol_metadata\")\n",
    "    .tag(\"symbol\", \"TESTCOIN\")\n",
    "    .field(\"keywords\", \"Test,Example,Coin\")\n",
    "    .field(\"buzzwords\", \"TestBuzz\")\n",
    "    .time(datetime.now(timezone.utc))\n",
    ")\n",
    "\n",
    "try:\n",
    "    write_api.write(bucket=INFLUX_BUCKET, record=test_point)\n",
    "    print(\"✅ Test write succeeded!\")\n",
    "except Exception as e:\n",
    "    print(f\"❌ Write failed: {e}\")\n"
   ]
  },
  {
   "cell_type": "code",
   "execution_count": 20,
   "id": "bb35af35",
   "metadata": {},
   "outputs": [
    {
     "name": "stdout",
     "output_type": "stream",
     "text": [
      "    result  table                           _start  \\\n",
      "0  _result      0 2025-04-19 21:34:46.276356+00:00   \n",
      "\n",
      "                             _stop                            _time  \\\n",
      "0 2025-04-26 21:34:46.276356+00:00 2025-04-26 21:32:03.510226+00:00   \n",
      "\n",
      "      _measurement    symbol buzzwords           keywords  \n",
      "0  symbol_metadata  TESTCOIN  TestBuzz  Test,Example,Coin  \n"
     ]
    }
   ],
   "source": [
    "query = f'''\n",
    "import \"influxdata/influxdb/schema\"\n",
    "from(bucket: \"{INFLUX_BUCKET}\")\n",
    "|> range(start: -7d)\n",
    "|> filter(fn: (r) => r[\"_measurement\"] == \"symbol_metadata\")\n",
    "|> pivot(rowKey:[\"_time\"], columnKey: [\"_field\"], valueColumn: \"_value\")\n",
    "'''\n",
    "\n",
    "df = query_api.query_data_frame(query)\n",
    "print(df)"
   ]
  }
 ],
 "metadata": {
  "kernelspec": {
   "display_name": "Python 3",
   "language": "python",
   "name": "python3"
  },
  "language_info": {
   "codemirror_mode": {
    "name": "ipython",
    "version": 3
   },
   "file_extension": ".py",
   "mimetype": "text/x-python",
   "name": "python",
   "nbconvert_exporter": "python",
   "pygments_lexer": "ipython3",
   "version": "3.10.11"
  }
 },
 "nbformat": 4,
 "nbformat_minor": 5
}
